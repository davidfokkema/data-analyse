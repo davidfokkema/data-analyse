{
 "cells": [
  {
   "cell_type": "markdown",
   "metadata": {},
   "source": [
    "# Uitwerkingen opgaven data-analyse NSP2 2020-2021"
   ]
  },
  {
   "cell_type": "code",
   "execution_count": 1,
   "metadata": {},
   "outputs": [],
   "source": [
    "# %matplotlib notebook\n",
    "\n",
    "import matplotlib.pyplot as plt\n",
    "import pandas as pd\n",
    "from math import sqrt, erf\n",
    "import numpy as np\n",
    "from lmfit import models\n",
    "from scipy.stats import chi2"
   ]
  },
  {
   "cell_type": "markdown",
   "metadata": {},
   "source": [
    "## Opgave 1.1\n",
    "\n",
    "We maken gebruik van pandas, een python data-analyse pakket. We importeren de datafile:"
   ]
  },
  {
   "cell_type": "code",
   "execution_count": 2,
   "metadata": {},
   "outputs": [],
   "source": [
    "data = pd.read_csv('10-metingen.csv')"
   ]
  },
  {
   "cell_type": "code",
   "execution_count": 3,
   "metadata": {},
   "outputs": [
    {
     "data": {
      "text/html": [
       "<div>\n",
       "<style scoped>\n",
       "    .dataframe tbody tr th:only-of-type {\n",
       "        vertical-align: middle;\n",
       "    }\n",
       "\n",
       "    .dataframe tbody tr th {\n",
       "        vertical-align: top;\n",
       "    }\n",
       "\n",
       "    .dataframe thead th {\n",
       "        text-align: right;\n",
       "    }\n",
       "</style>\n",
       "<table border=\"1\" class=\"dataframe\">\n",
       "  <thead>\n",
       "    <tr style=\"text-align: right;\">\n",
       "      <th></th>\n",
       "      <th>x</th>\n",
       "    </tr>\n",
       "  </thead>\n",
       "  <tbody>\n",
       "    <tr>\n",
       "      <th>0</th>\n",
       "      <td>73</td>\n",
       "    </tr>\n",
       "    <tr>\n",
       "      <th>1</th>\n",
       "      <td>79</td>\n",
       "    </tr>\n",
       "    <tr>\n",
       "      <th>2</th>\n",
       "      <td>69</td>\n",
       "    </tr>\n",
       "    <tr>\n",
       "      <th>3</th>\n",
       "      <td>74</td>\n",
       "    </tr>\n",
       "    <tr>\n",
       "      <th>4</th>\n",
       "      <td>68</td>\n",
       "    </tr>\n",
       "    <tr>\n",
       "      <th>5</th>\n",
       "      <td>72</td>\n",
       "    </tr>\n",
       "    <tr>\n",
       "      <th>6</th>\n",
       "      <td>72</td>\n",
       "    </tr>\n",
       "    <tr>\n",
       "      <th>7</th>\n",
       "      <td>75</td>\n",
       "    </tr>\n",
       "    <tr>\n",
       "      <th>8</th>\n",
       "      <td>60</td>\n",
       "    </tr>\n",
       "    <tr>\n",
       "      <th>9</th>\n",
       "      <td>76</td>\n",
       "    </tr>\n",
       "  </tbody>\n",
       "</table>\n",
       "</div>"
      ],
      "text/plain": [
       "    x\n",
       "0  73\n",
       "1  79\n",
       "2  69\n",
       "3  74\n",
       "4  68\n",
       "5  72\n",
       "6  72\n",
       "7  75\n",
       "8  60\n",
       "9  76"
      ]
     },
     "execution_count": 3,
     "metadata": {},
     "output_type": "execute_result"
    }
   ],
   "source": [
    "data"
   ]
  },
  {
   "cell_type": "markdown",
   "metadata": {},
   "source": [
    "...en bekijken wat statistieken:"
   ]
  },
  {
   "cell_type": "code",
   "execution_count": 4,
   "metadata": {},
   "outputs": [
    {
     "data": {
      "text/html": [
       "<div>\n",
       "<style scoped>\n",
       "    .dataframe tbody tr th:only-of-type {\n",
       "        vertical-align: middle;\n",
       "    }\n",
       "\n",
       "    .dataframe tbody tr th {\n",
       "        vertical-align: top;\n",
       "    }\n",
       "\n",
       "    .dataframe thead th {\n",
       "        text-align: right;\n",
       "    }\n",
       "</style>\n",
       "<table border=\"1\" class=\"dataframe\">\n",
       "  <thead>\n",
       "    <tr style=\"text-align: right;\">\n",
       "      <th></th>\n",
       "      <th>x</th>\n",
       "    </tr>\n",
       "  </thead>\n",
       "  <tbody>\n",
       "    <tr>\n",
       "      <th>count</th>\n",
       "      <td>10.000000</td>\n",
       "    </tr>\n",
       "    <tr>\n",
       "      <th>mean</th>\n",
       "      <td>71.800000</td>\n",
       "    </tr>\n",
       "    <tr>\n",
       "      <th>std</th>\n",
       "      <td>5.245104</td>\n",
       "    </tr>\n",
       "    <tr>\n",
       "      <th>min</th>\n",
       "      <td>60.000000</td>\n",
       "    </tr>\n",
       "    <tr>\n",
       "      <th>25%</th>\n",
       "      <td>69.750000</td>\n",
       "    </tr>\n",
       "    <tr>\n",
       "      <th>50%</th>\n",
       "      <td>72.500000</td>\n",
       "    </tr>\n",
       "    <tr>\n",
       "      <th>75%</th>\n",
       "      <td>74.750000</td>\n",
       "    </tr>\n",
       "    <tr>\n",
       "      <th>max</th>\n",
       "      <td>79.000000</td>\n",
       "    </tr>\n",
       "  </tbody>\n",
       "</table>\n",
       "</div>"
      ],
      "text/plain": [
       "               x\n",
       "count  10.000000\n",
       "mean   71.800000\n",
       "std     5.245104\n",
       "min    60.000000\n",
       "25%    69.750000\n",
       "50%    72.500000\n",
       "75%    74.750000\n",
       "max    79.000000"
      ]
     },
     "execution_count": 4,
     "metadata": {},
     "output_type": "execute_result"
    }
   ],
   "source": [
    "data.describe()"
   ]
  },
  {
   "cell_type": "markdown",
   "metadata": {},
   "source": [
    "De standaarddeviatie van het gemiddelde is:"
   ]
  },
  {
   "cell_type": "code",
   "execution_count": 5,
   "metadata": {},
   "outputs": [
    {
     "data": {
      "text/plain": [
       "1.6586473739499634"
      ]
     },
     "execution_count": 5,
     "metadata": {},
     "output_type": "execute_result"
    }
   ],
   "source": [
    "x = data.x\n",
    "x.std() / sqrt(x.count())"
   ]
  },
  {
   "cell_type": "markdown",
   "metadata": {},
   "source": [
    "Het resultaat van ons experiment is dus $x = 71.8 \\pm 1.7$ of $x = 71.8(17)$.\n",
    "\n",
    "Voor de kans op een volgende meting met $x\\geq 75$ berekenen we eerst hoeveel standaarddeviaties de meting verwijderd is van het gemiddelde. Vervolgens berekenen we de kans op een meting hóger dan dat aantal standaarddeviaties. We gebruiken daarvoor de error function `erf` gedefinieerd in de `math`-bibliotheek."
   ]
  },
  {
   "cell_type": "code",
   "execution_count": 6,
   "metadata": {},
   "outputs": [
    {
     "data": {
      "text/plain": [
       "0.2709001618069287"
      ]
     },
     "execution_count": 6,
     "metadata": {},
     "output_type": "execute_result"
    }
   ],
   "source": [
    "dist = 75 - x.mean()\n",
    "dist_sigma = dist / x.std()\n",
    "(1 - erf(dist_sigma / sqrt(2))) / 2"
   ]
  },
  {
   "cell_type": "markdown",
   "metadata": {},
   "source": [
    "## Opgave 1.2\n",
    "\n",
    "We gaan plotten, en we moeten `matplotlib` vertellen dat we interactieve plots in de notebook willen zien:"
   ]
  },
  {
   "cell_type": "markdown",
   "metadata": {},
   "source": [
    "We openen de datafile en maken een histogram van $y$:"
   ]
  },
  {
   "cell_type": "code",
   "execution_count": 7,
   "metadata": {},
   "outputs": [
    {
     "data": {
      "text/html": [
       "<div>\n",
       "<style scoped>\n",
       "    .dataframe tbody tr th:only-of-type {\n",
       "        vertical-align: middle;\n",
       "    }\n",
       "\n",
       "    .dataframe tbody tr th {\n",
       "        vertical-align: top;\n",
       "    }\n",
       "\n",
       "    .dataframe thead th {\n",
       "        text-align: right;\n",
       "    }\n",
       "</style>\n",
       "<table border=\"1\" class=\"dataframe\">\n",
       "  <thead>\n",
       "    <tr style=\"text-align: right;\">\n",
       "      <th></th>\n",
       "      <th>y</th>\n",
       "    </tr>\n",
       "  </thead>\n",
       "  <tbody>\n",
       "    <tr>\n",
       "      <th>count</th>\n",
       "      <td>80.000000</td>\n",
       "    </tr>\n",
       "    <tr>\n",
       "      <th>mean</th>\n",
       "      <td>61.587500</td>\n",
       "    </tr>\n",
       "    <tr>\n",
       "      <th>std</th>\n",
       "      <td>16.779051</td>\n",
       "    </tr>\n",
       "    <tr>\n",
       "      <th>min</th>\n",
       "      <td>22.000000</td>\n",
       "    </tr>\n",
       "    <tr>\n",
       "      <th>25%</th>\n",
       "      <td>49.000000</td>\n",
       "    </tr>\n",
       "    <tr>\n",
       "      <th>50%</th>\n",
       "      <td>63.500000</td>\n",
       "    </tr>\n",
       "    <tr>\n",
       "      <th>75%</th>\n",
       "      <td>75.000000</td>\n",
       "    </tr>\n",
       "    <tr>\n",
       "      <th>max</th>\n",
       "      <td>91.000000</td>\n",
       "    </tr>\n",
       "  </tbody>\n",
       "</table>\n",
       "</div>"
      ],
      "text/plain": [
       "               y\n",
       "count  80.000000\n",
       "mean   61.587500\n",
       "std    16.779051\n",
       "min    22.000000\n",
       "25%    49.000000\n",
       "50%    63.500000\n",
       "75%    75.000000\n",
       "max    91.000000"
      ]
     },
     "execution_count": 7,
     "metadata": {},
     "output_type": "execute_result"
    }
   ],
   "source": [
    "data = pd.read_csv('80-metingen.csv')\n",
    "data.describe()"
   ]
  },
  {
   "cell_type": "code",
   "execution_count": 8,
   "metadata": {},
   "outputs": [
    {
     "data": {
      "text/plain": [
       "<AxesSubplot:>"
      ]
     },
     "execution_count": 8,
     "metadata": {},
     "output_type": "execute_result"
    },
    {
     "data": {
      "image/png": "[encoded data removed]",
      "text/plain": [
       "<Figure size 432x288 with 1 Axes>"
      ]
     },
     "metadata": {
      "needs_background": "light"
     },
     "output_type": "display_data"
    }
   ],
   "source": [
    "data.y.hist()"
   ]
  },
  {
   "cell_type": "markdown",
   "metadata": {},
   "source": [
    "Je kunt de grenzen van de bins wel een stuk mooier krijgen. Niet simpelweg het minimum en het maximum nemen en opdelen, zoals pandas nu standaard doet, maar afronden op mooie, ronde getallen. Dat kan ook maar is iets meer werk. Voor stapgroottes kun je het beste `arange` gebruiken. Let er daarbij wel op dat `arange` niet inclusief is. Het maximum wordt niet meegenomen. Als je dat ietsje groter maakt dan de bingrens, dus 101 i.p.v. 100, dan komt het goed:"
   ]
  },
  {
   "cell_type": "code",
   "execution_count": 9,
   "metadata": {},
   "outputs": [
    {
     "data": {
      "text/plain": [
       "Text(0, 0.5, 'Count')"
      ]
     },
     "execution_count": 9,
     "metadata": {},
     "output_type": "execute_result"
    },
    {
     "data": {
      "image/png": "[encoded data removed]",
      "text/plain": [
       "<Figure size 432x288 with 1 Axes>"
      ]
     },
     "metadata": {
      "needs_background": "light"
     },
     "output_type": "display_data"
    }
   ],
   "source": [
    "bins = np.arange(20, 101, 10)\n",
    "\n",
    "plt.figure()\n",
    "data.y.hist(bins=bins)\n",
    "plt.xlabel(\"Value\")\n",
    "plt.ylabel(\"Count\")"
   ]
  },
  {
   "cell_type": "markdown",
   "metadata": {},
   "source": [
    "### Fitten aan een histogram\n",
    "\n",
    "Als je least-squares wilt fitten, gebruik dan de `lmfit` bibliotheek. Die is handiger dan `scipy` gebruiken.\n",
    "\n",
    "We moeten om te kunnen fitten een set datapunten hebben. Voor de punten nemen we het aantal waardes in een bin als $y$-waarde en het centrum tussen de bingrenzen als $x$-waarde. Voor het berekenen van de $x$-waardes gebruiken we een `NumPy`-trucje om parallele berekeningen uit te voeren door het gebruik van lijsten:"
   ]
  },
  {
   "cell_type": "code",
   "execution_count": 10,
   "metadata": {},
   "outputs": [
    {
     "data": {
      "text/plain": [
       "<matplotlib.collections.PathCollection at 0x7fd18bc7b880>"
      ]
     },
     "execution_count": 10,
     "metadata": {},
     "output_type": "execute_result"
    },
    {
     "data": {
      "image/png": "[encoded data removed]",
      "text/plain": [
       "<Figure size 432x288 with 1 Axes>"
      ]
     },
     "metadata": {
      "needs_background": "light"
     },
     "output_type": "display_data"
    }
   ],
   "source": [
    "y, bins = np.histogram(data.y, bins=bins)\n",
    "x = (bins[:-1] + bins[1:]) / 2\n",
    "\n",
    "plt.figure()\n",
    "plt.scatter(x, y)"
   ]
  },
  {
   "cell_type": "markdown",
   "metadata": {},
   "source": [
    "Je kunt veel verschillende modellen gebruiken, b.v. een `GaussianModel`. De werkwijze is als volgt: éérst initialiseer je het model en vervolgens voer je de fit uit. Het is handig om voor de fit een *first guess* op te geven, een afschatting van de parameters. Je kunt dit handmatig doen, maar wij gebruiken hier de method `guess` van het model. Dit geeft een afschatting van de parameters..."
   ]
  },
  {
   "cell_type": "code",
   "execution_count": 11,
   "metadata": {},
   "outputs": [
    {
     "data": {
      "text/html": [
       "<table><tr><th> name </th><th> value </th><th> initial value </th><th> min </th><th> max </th><th> vary </th><th> expression </th></tr><tr><td> amplitude </td><td>  720.000000 </td><td> None </td><td>        -inf </td><td>         inf </td><td> True </td><td>  </td></tr><tr><td> center </td><td>  60.0000000 </td><td> None </td><td>        -inf </td><td>         inf </td><td> True </td><td>  </td></tr><tr><td> sigma </td><td>  15.0000000 </td><td> None </td><td>  0.00000000 </td><td>         inf </td><td> True </td><td>  </td></tr><tr><td> fwhm </td><td>  35.3223000 </td><td> None </td><td>        -inf </td><td>         inf </td><td> False </td><td> 2.3548200*sigma </td></tr><tr><td> height </td><td>  19.1492304 </td><td> None </td><td>        -inf </td><td>         inf </td><td> False </td><td> 0.3989423*amplitude/max(2.220446049250313e-16, sigma) </td></tr></table>"
      ],
      "text/plain": [
       "Parameters([('amplitude',\n",
       "             <Parameter 'amplitude', value=720.0, bounds=[-inf:inf]>),\n",
       "            ('center', <Parameter 'center', value=60.0, bounds=[-inf:inf]>),\n",
       "            ('sigma', <Parameter 'sigma', value=15.0, bounds=[0.0:inf]>),\n",
       "            ('fwhm',\n",
       "             <Parameter 'fwhm', value=35.3223, bounds=[-inf:inf], expr='2.3548200*sigma'>),\n",
       "            ('height',\n",
       "             <Parameter 'height', value=19.149230400000004, bounds=[-inf:inf], expr='0.3989423*amplitude/max(2.220446049250313e-16, sigma)'>)])"
      ]
     },
     "execution_count": 11,
     "metadata": {},
     "output_type": "execute_result"
    }
   ],
   "source": [
    "gauss = models.GaussianModel()\n",
    "first_guess = gauss.guess(y, x)\n",
    "first_guess"
   ]
  },
  {
   "cell_type": "markdown",
   "metadata": {},
   "source": [
    "...die je vervolgens in de fit kunt stoppen. Denk hierbij aan de fout op de datapunten. In de fit kun je een *gewicht* toekennen, dat omgekeerd evenredig is met de fout."
   ]
  },
  {
   "cell_type": "code",
   "execution_count": 12,
   "metadata": {},
   "outputs": [
    {
     "data": {
      "text/html": [
       "<h2> Model</h2> Model(gaussian) <h2>Fit Statistics</h2><table><tr><td>fitting method</td><td>leastsq</td><td></td></tr><tr><td># function evals</td><td>13</td><td></td></tr><tr><td># data points</td><td>8</td><td></td></tr><tr><td># variables</td><td>3</td><td></td></tr><tr><td>chi-square</td><td> 2.02223322</td><td></td></tr><tr><td>reduced chi-square</td><td> 0.40444664</td><td></td></tr><tr><td>Akaike info crit.</td><td>-5.00191267</td><td></td></tr><tr><td>Bayesian info crit.</td><td>-4.76358805</td><td></td></tr></table><h2>Variables</h2><table><tr><th> name </th><th> value </th><th> standard error </th><th> relative error </th><th> initial value </th><th> min </th><th> max </th><th> vary </th><th> expression </th></tr><tr><td> amplitude </td><td>  801.690915 </td><td>  58.4759654 </td><td> (7.29%) </td><td> 720.0 </td><td>        -inf </td><td>         inf </td><td> True </td><td>  </td></tr><tr><td> center </td><td>  61.8208268 </td><td>  1.43858876 </td><td> (2.33%) </td><td> 60.0 </td><td>        -inf </td><td>         inf </td><td> True </td><td>  </td></tr><tr><td> sigma </td><td>  18.2635376 </td><td>  1.29580916 </td><td> (7.10%) </td><td> 15.0 </td><td>  0.00000000 </td><td>         inf </td><td> True </td><td>  </td></tr><tr><td> fwhm </td><td>  43.0073437 </td><td>  3.05139733 </td><td> (7.10%) </td><td> 35.3223 </td><td>        -inf </td><td>         inf </td><td> False </td><td> 2.3548200*sigma </td></tr><tr><td> height </td><td>  17.5118547 </td><td>  1.63561642 </td><td> (9.34%) </td><td> 19.149230400000004 </td><td>        -inf </td><td>         inf </td><td> False </td><td> 0.3989423*amplitude/max(2.220446049250313e-16, sigma) </td></tr></table><h2>Correlations (unreported correlations are < 0.100)</h2><table><tr><td>amplitude</td><td>sigma</td><td>0.1575</td></tr></table>"
      ],
      "text/plain": [
       "<lmfit.model.ModelResult at 0x7fd18bb82ee0>"
      ]
     },
     "execution_count": 12,
     "metadata": {},
     "output_type": "execute_result"
    }
   ],
   "source": [
    "fit = gauss.fit(y, x=x, weights=1 / np.sqrt(y), params=first_guess)\n",
    "fit"
   ]
  },
  {
   "cell_type": "code",
   "execution_count": 13,
   "metadata": {},
   "outputs": [
    {
     "data": {
      "text/plain": [
       "Text(0, 0.5, 'Count')"
      ]
     },
     "execution_count": 13,
     "metadata": {},
     "output_type": "execute_result"
    },
    {
     "data": {
      "image/png": "[encoded data removed]",
      "text/plain": [
       "<Figure size 432x432 with 2 Axes>"
      ]
     },
     "metadata": {
      "needs_background": "light"
     },
     "output_type": "display_data"
    }
   ],
   "source": [
    "fit.plot(numpoints=50)\n",
    "plt.xlabel(\"Value\")\n",
    "plt.ylabel(\"Count\")"
   ]
  },
  {
   "cell_type": "markdown",
   "metadata": {},
   "source": [
    "### Afhankelijkheid van binkeuze\n",
    "\n",
    "Bovenstaande fit ziet er prachtig uit. Toch is er nog een subtiliteit: het histogram hangt nogal af van de keuze voor de bins. In bovenstaand voorbeeld hadden we de bins zelf gekozen. Een andere keuze voor de bins, levert een andere fit op:"
   ]
  },
  {
   "cell_type": "code",
   "execution_count": 14,
   "metadata": {},
   "outputs": [
    {
     "data": {
      "text/html": [
       "<h2> Model</h2> Model(gaussian) <h2>Fit Statistics</h2><table><tr><td>fitting method</td><td>leastsq</td><td></td></tr><tr><td># function evals</td><td>17</td><td></td></tr><tr><td># data points</td><td>10</td><td></td></tr><tr><td># variables</td><td>3</td><td></td></tr><tr><td>chi-square</td><td> 3.57114692</td><td></td></tr><tr><td>reduced chi-square</td><td> 0.51016385</td><td></td></tr><tr><td>Akaike info crit.</td><td>-4.29698282</td><td></td></tr><tr><td>Bayesian info crit.</td><td>-3.38922754</td><td></td></tr></table><h2>Variables</h2><table><tr><th> name </th><th> value </th><th> standard error </th><th> relative error </th><th> initial value </th><th> min </th><th> max </th><th> vary </th><th> expression </th></tr><tr><td> amplitude </td><td>  614.217856 </td><td>  64.7832820 </td><td> (10.55%) </td><td> 683.1000000000001 </td><td>        -inf </td><td>         inf </td><td> True </td><td>  </td></tr><tr><td> center </td><td>  66.6602261 </td><td>  2.83603715 </td><td> (4.25%) </td><td> 62.25 </td><td>        -inf </td><td>         inf </td><td> True </td><td>  </td></tr><tr><td> sigma </td><td>  21.1889216 </td><td>  2.66697273 </td><td> (12.59%) </td><td> 20.700000000000003 </td><td>  0.00000000 </td><td>         inf </td><td> True </td><td>  </td></tr><tr><td> fwhm </td><td>  49.8960965 </td><td>  6.28024073 </td><td> (12.59%) </td><td> 48.74477400000001 </td><td>        -inf </td><td>         inf </td><td> False </td><td> 2.3548200*sigma </td></tr><tr><td> height </td><td>  11.5644150 </td><td>  1.21180051 </td><td> (10.48%) </td><td> 13.1650959 </td><td>        -inf </td><td>         inf </td><td> False </td><td> 0.3989423*amplitude/max(2.220446049250313e-16, sigma) </td></tr></table><h2>Correlations (unreported correlations are < 0.100)</h2><table><tr><td>amplitude</td><td>sigma</td><td>0.6021</td></tr><tr><td>center</td><td>sigma</td><td>0.5982</td></tr><tr><td>amplitude</td><td>center</td><td>0.5152</td></tr></table>"
      ],
      "text/plain": [
       "<lmfit.model.ModelResult at 0x7fd18bf06220>"
      ]
     },
     "execution_count": 14,
     "metadata": {},
     "output_type": "execute_result"
    },
    {
     "data": {
      "image/png": "[encoded data removed]",
      "text/plain": [
       "<Figure size 432x432 with 2 Axes>"
      ]
     },
     "metadata": {
      "needs_background": "light"
     },
     "output_type": "display_data"
    }
   ],
   "source": [
    "y, bins = np.histogram(data.y)\n",
    "x = (bins[:-1] + bins[1:]) / 2\n",
    "\n",
    "first_guess = gauss.guess(y, x)\n",
    "fit = gauss.fit(y, x=x, weights=1 / np.sqrt(y), params=first_guess)\n",
    "fit.plot(numpoints=50)\n",
    "fit"
   ]
  },
  {
   "cell_type": "markdown",
   "metadata": {},
   "source": [
    "Deze fit heeft een iets ander centrum en een andere breedte."
   ]
  },
  {
   "cell_type": "markdown",
   "metadata": {},
   "source": [
    "## Opgave 1.3\n",
    "\n",
    "We hebben 17 studenten (de eerste telt niet mee) en het experiment is 10 keer herhaald. Hieronder volgt alleen de uitwerking van methode 1."
   ]
  },
  {
   "cell_type": "code",
   "execution_count": 15,
   "metadata": {},
   "outputs": [],
   "source": [
    "N = 16\n",
    "M = 10"
   ]
  },
  {
   "cell_type": "code",
   "execution_count": 16,
   "metadata": {},
   "outputs": [
    {
     "name": "stdout",
     "output_type": "stream",
     "text": [
      "Gemiddelde: 3.64, standaarddeviatie v/h gemiddelde: 0.24\n"
     ]
    }
   ],
   "source": [
    "t_kuit_j = [5.7, 4.24, 3.51, 3.61, 3.35, 3.50, 3.24, 3.25, 3.04, 2.96]\n",
    "t_kuit = np.mean(t_kuit_j)\n",
    "dt_kuit = np.std(t_kuit_j) / np.sqrt(M)\n",
    "\n",
    "print(f\"Gemiddelde: {t_kuit:.2f}, standaarddeviatie v/h gemiddelde: {dt_kuit:.2f}\")"
   ]
  },
  {
   "cell_type": "code",
   "execution_count": 17,
   "metadata": {},
   "outputs": [
    {
     "name": "stdout",
     "output_type": "stream",
     "text": [
      "Gemiddelde: 2.45, standaarddeviatie v/h gemiddelde: 0.13\n"
     ]
    }
   ],
   "source": [
    "t_schouder_j = [3.27, 2.9, 2.67, 2.4, 2.43, 2.44, 2.35, 2.14, 2.11, 1.78]\n",
    "t_schouder = np.mean(t_schouder_j)\n",
    "dt_schouder = np.std(t_schouder_j) / np.sqrt(M)\n",
    "\n",
    "print(f\"Gemiddelde: {t_schouder:.2f}, standaarddeviatie v/h gemiddelde: {dt_schouder:.2f}\")"
   ]
  },
  {
   "cell_type": "code",
   "execution_count": 18,
   "metadata": {},
   "outputs": [
    {
     "name": "stdout",
     "output_type": "stream",
     "text": [
      "Transporttijd: 1.19 +/- 0.27\n"
     ]
    }
   ],
   "source": [
    "t_zenuw = t_kuit - t_schouder\n",
    "dt_zenuw = np.sqrt(dt_kuit ** 2 + dt_schouder ** 2)\n",
    "\n",
    "print(f\"Transporttijd: {t_zenuw:.2f} +/- {dt_zenuw:.2f}\")"
   ]
  },
  {
   "cell_type": "code",
   "execution_count": 19,
   "metadata": {},
   "outputs": [
    {
     "name": "stdout",
     "output_type": "stream",
     "text": [
      "Snelheid: 20.15 +/- 4.81\n"
     ]
    }
   ],
   "source": [
    "v_zenuw = N * 1.50 / t_zenuw\n",
    "dv_zenuw = v_zenuw * np.sqrt((0.1 / 1.5) ** 2 + (dt_zenuw / t_zenuw) ** 2)\n",
    "\n",
    "print(f\"Snelheid: {v_zenuw:.2f} +/- {dv_zenuw:.2f}\")"
   ]
  },
  {
   "cell_type": "markdown",
   "metadata": {},
   "source": [
    "## Opgave 1.4\n",
    "\n",
    "We importeren de dataset en kijken even of dat goed ging."
   ]
  },
  {
   "cell_type": "code",
   "execution_count": 20,
   "metadata": {},
   "outputs": [],
   "source": [
    "data = pd.read_csv('verval.csv')"
   ]
  },
  {
   "cell_type": "code",
   "execution_count": 21,
   "metadata": {},
   "outputs": [
    {
     "data": {
      "text/html": [
       "<div>\n",
       "<style scoped>\n",
       "    .dataframe tbody tr th:only-of-type {\n",
       "        vertical-align: middle;\n",
       "    }\n",
       "\n",
       "    .dataframe tbody tr th {\n",
       "        vertical-align: top;\n",
       "    }\n",
       "\n",
       "    .dataframe thead th {\n",
       "        text-align: right;\n",
       "    }\n",
       "</style>\n",
       "<table border=\"1\" class=\"dataframe\">\n",
       "  <thead>\n",
       "    <tr style=\"text-align: right;\">\n",
       "      <th></th>\n",
       "      <th>tijd</th>\n",
       "      <th>counts</th>\n",
       "    </tr>\n",
       "  </thead>\n",
       "  <tbody>\n",
       "    <tr>\n",
       "      <th>0</th>\n",
       "      <td>0</td>\n",
       "      <td>1265</td>\n",
       "    </tr>\n",
       "    <tr>\n",
       "      <th>1</th>\n",
       "      <td>1</td>\n",
       "      <td>688</td>\n",
       "    </tr>\n",
       "    <tr>\n",
       "      <th>2</th>\n",
       "      <td>2</td>\n",
       "      <td>410</td>\n",
       "    </tr>\n",
       "    <tr>\n",
       "      <th>3</th>\n",
       "      <td>3</td>\n",
       "      <td>241</td>\n",
       "    </tr>\n",
       "    <tr>\n",
       "      <th>4</th>\n",
       "      <td>4</td>\n",
       "      <td>132</td>\n",
       "    </tr>\n",
       "    <tr>\n",
       "      <th>5</th>\n",
       "      <td>5</td>\n",
       "      <td>93</td>\n",
       "    </tr>\n",
       "    <tr>\n",
       "      <th>6</th>\n",
       "      <td>6</td>\n",
       "      <td>41</td>\n",
       "    </tr>\n",
       "    <tr>\n",
       "      <th>7</th>\n",
       "      <td>7</td>\n",
       "      <td>29</td>\n",
       "    </tr>\n",
       "    <tr>\n",
       "      <th>8</th>\n",
       "      <td>8</td>\n",
       "      <td>30</td>\n",
       "    </tr>\n",
       "  </tbody>\n",
       "</table>\n",
       "</div>"
      ],
      "text/plain": [
       "   tijd  counts\n",
       "0     0    1265\n",
       "1     1     688\n",
       "2     2     410\n",
       "3     3     241\n",
       "4     4     132\n",
       "5     5      93\n",
       "6     6      41\n",
       "7     7      29\n",
       "8     8      30"
      ]
     },
     "execution_count": 21,
     "metadata": {},
     "output_type": "execute_result"
    }
   ],
   "source": [
    "data"
   ]
  },
  {
   "cell_type": "markdown",
   "metadata": {},
   "source": [
    "We zien een kolom **tijd** en een kolom **counts**, met negen meetpunten. De fouten op de meetpunten stonden niet in het bestand, maar wel in de opgave. De fout op het aantal counts $N$ wordt gegeven door $\\sqrt N$. We maken een nieuwe kolom `yerr` als volgt:"
   ]
  },
  {
   "cell_type": "code",
   "execution_count": 22,
   "metadata": {},
   "outputs": [],
   "source": [
    "data['yerr'] = np.sqrt(data.counts)"
   ]
  },
  {
   "cell_type": "markdown",
   "metadata": {},
   "source": [
    "Merk op dat we de data nu kunnen bekijken door zowel `data['yerr']` als `data.yerr` te typen, maar dat we nieuwe kolommen alléén kunnen maken met de `data['yerr']`-notatie. We inspecteren even de eerste vijf regels om te zien of alles goed ging:"
   ]
  },
  {
   "cell_type": "code",
   "execution_count": 23,
   "metadata": {},
   "outputs": [
    {
     "data": {
      "text/html": [
       "<div>\n",
       "<style scoped>\n",
       "    .dataframe tbody tr th:only-of-type {\n",
       "        vertical-align: middle;\n",
       "    }\n",
       "\n",
       "    .dataframe tbody tr th {\n",
       "        vertical-align: top;\n",
       "    }\n",
       "\n",
       "    .dataframe thead th {\n",
       "        text-align: right;\n",
       "    }\n",
       "</style>\n",
       "<table border=\"1\" class=\"dataframe\">\n",
       "  <thead>\n",
       "    <tr style=\"text-align: right;\">\n",
       "      <th></th>\n",
       "      <th>tijd</th>\n",
       "      <th>counts</th>\n",
       "      <th>yerr</th>\n",
       "    </tr>\n",
       "  </thead>\n",
       "  <tbody>\n",
       "    <tr>\n",
       "      <th>0</th>\n",
       "      <td>0</td>\n",
       "      <td>1265</td>\n",
       "      <td>35.566838</td>\n",
       "    </tr>\n",
       "    <tr>\n",
       "      <th>1</th>\n",
       "      <td>1</td>\n",
       "      <td>688</td>\n",
       "      <td>26.229754</td>\n",
       "    </tr>\n",
       "    <tr>\n",
       "      <th>2</th>\n",
       "      <td>2</td>\n",
       "      <td>410</td>\n",
       "      <td>20.248457</td>\n",
       "    </tr>\n",
       "    <tr>\n",
       "      <th>3</th>\n",
       "      <td>3</td>\n",
       "      <td>241</td>\n",
       "      <td>15.524175</td>\n",
       "    </tr>\n",
       "    <tr>\n",
       "      <th>4</th>\n",
       "      <td>4</td>\n",
       "      <td>132</td>\n",
       "      <td>11.489125</td>\n",
       "    </tr>\n",
       "  </tbody>\n",
       "</table>\n",
       "</div>"
      ],
      "text/plain": [
       "   tijd  counts       yerr\n",
       "0     0    1265  35.566838\n",
       "1     1     688  26.229754\n",
       "2     2     410  20.248457\n",
       "3     3     241  15.524175\n",
       "4     4     132  11.489125"
      ]
     },
     "execution_count": 23,
     "metadata": {},
     "output_type": "execute_result"
    }
   ],
   "source": [
    "data.head()"
   ]
  },
  {
   "cell_type": "markdown",
   "metadata": {},
   "source": [
    "We maken een plot van counts tegen tijd, met de juiste foutvlaggen:"
   ]
  },
  {
   "cell_type": "code",
   "execution_count": 24,
   "metadata": {},
   "outputs": [
    {
     "data": {
      "text/plain": [
       "<AxesSubplot:xlabel='tijd', ylabel='counts'>"
      ]
     },
     "execution_count": 24,
     "metadata": {},
     "output_type": "execute_result"
    },
    {
     "data": {
      "image/png": "[encoded data removed]",
      "text/plain": [
       "<Figure size 432x288 with 1 Axes>"
      ]
     },
     "metadata": {
      "needs_background": "light"
     },
     "output_type": "display_data"
    }
   ],
   "source": [
    "data.plot.scatter('tijd', 'counts', yerr='yerr')"
   ]
  },
  {
   "cell_type": "markdown",
   "metadata": {},
   "source": [
    "De vraag is nu hoe we het beste om kunnen gaan met de achtergrond. Eenvoudig negeren, fitten aan een exponentiële functie plus een constante achtergrond of de achtergrond éérst aftrekken van de data? We bekijken hieronder de drie methodes.\n",
    "\n",
    "### Methode A: negeren van de achtergrond"
   ]
  },
  {
   "cell_type": "code",
   "execution_count": 25,
   "metadata": {},
   "outputs": [
    {
     "data": {
      "text/html": [
       "<h2> Model</h2> Model(exponential) <h2>Fit Statistics</h2><table><tr><td>fitting method</td><td>leastsq</td><td></td></tr><tr><td># function evals</td><td>41</td><td></td></tr><tr><td># data points</td><td>9</td><td></td></tr><tr><td># variables</td><td>2</td><td></td></tr><tr><td>chi-square</td><td> 11.6138776</td><td></td></tr><tr><td>reduced chi-square</td><td> 1.65912536</td><td></td></tr><tr><td>Akaike info crit.</td><td> 6.29478532</td><td></td></tr><tr><td>Bayesian info crit.</td><td> 6.68923447</td><td></td></tr></table><h2>Variables</h2><table><tr><th> name </th><th> value </th><th> standard error </th><th> relative error </th><th> initial value </th><th> min </th><th> max </th><th> vary </th></tr><tr><td> amplitude </td><td>  1232.13260 </td><td>  38.0340395 </td><td> (3.09%) </td><td> 1 </td><td>        -inf </td><td>         inf </td><td> True </td></tr><tr><td> decay </td><td>  1.84065234 </td><td>  0.05040389 </td><td> (2.74%) </td><td> 1 </td><td>        -inf </td><td>         inf </td><td> True </td></tr></table><h2>Correlations (unreported correlations are < 0.100)</h2><table><tr><td>amplitude</td><td>decay</td><td>-0.6350</td></tr></table>"
      ],
      "text/plain": [
       "<lmfit.model.ModelResult at 0x7fd18c3b3130>"
      ]
     },
     "execution_count": 25,
     "metadata": {},
     "output_type": "execute_result"
    },
    {
     "data": {
      "image/png": "[encoded data removed]",
      "text/plain": [
       "<Figure size 432x432 with 2 Axes>"
      ]
     },
     "metadata": {
      "needs_background": "light"
     },
     "output_type": "display_data"
    }
   ],
   "source": [
    "model = models.ExponentialModel()\n",
    "fit = model.fit(data.counts, x=data.tijd, weights=1 / data.yerr)\n",
    "fit.plot(numpoints=50)\n",
    "fit"
   ]
  },
  {
   "cell_type": "markdown",
   "metadata": {},
   "source": [
    "Op het oog ziet dit er prima uit, maar $\\chi_\\mathrm{red}^2 = 1.659$, vrij groot. Aan de residuals is nog niet heel veel te zien. Je moet langer doormeten om duidelijk te kunnen zien dat de exponentiële functie naar nul gaat, terwijl de metingen dat niet doen."
   ]
  },
  {
   "cell_type": "markdown",
   "metadata": {},
   "source": [
    "### Methode B: fitten aan exponentiële functie plus constante achtergrond\n",
    "\n",
    "We kunnen met `lmfit` eenvoudig modellen optellen:"
   ]
  },
  {
   "cell_type": "code",
   "execution_count": 26,
   "metadata": {},
   "outputs": [],
   "source": [
    "model = models.ExponentialModel() + models.ConstantModel()"
   ]
  },
  {
   "cell_type": "markdown",
   "metadata": {},
   "source": [
    "Vervolgens fitten we dit model aan de data en bekijken het resultaat:"
   ]
  },
  {
   "cell_type": "code",
   "execution_count": 27,
   "metadata": {},
   "outputs": [
    {
     "data": {
      "text/html": [
       "<h2> Model</h2> (Model(exponential) + Model(constant)) <h2>Fit Statistics</h2><table><tr><td>fitting method</td><td>leastsq</td><td></td></tr><tr><td># function evals</td><td>63</td><td></td></tr><tr><td># data points</td><td>9</td><td></td></tr><tr><td># variables</td><td>3</td><td></td></tr><tr><td>chi-square</td><td> 7.00035413</td><td></td></tr><tr><td>reduced chi-square</td><td> 1.16672569</td><td></td></tr><tr><td>Akaike info crit.</td><td> 3.73862544</td><td></td></tr><tr><td>Bayesian info crit.</td><td> 4.33029918</td><td></td></tr></table><h2>Variables</h2><table><tr><th> name </th><th> value </th><th> standard error </th><th> relative error </th><th> initial value </th><th> min </th><th> max </th><th> vary </th></tr><tr><td> amplitude </td><td>  1244.05585 </td><td>  33.0432277 </td><td> (2.66%) </td><td> 1 </td><td>        -inf </td><td>         inf </td><td> True </td></tr><tr><td> decay </td><td>  1.73323441 </td><td>  0.06537073 </td><td> (3.77%) </td><td> 1 </td><td>        -inf </td><td>         inf </td><td> True </td></tr><tr><td> c </td><td>  11.1130677 </td><td>  5.38177509 </td><td> (48.43%) </td><td> 0.0 </td><td>        -inf </td><td>         inf </td><td> True </td></tr></table><h2>Correlations (unreported correlations are < 0.100)</h2><table><tr><td>decay</td><td>c</td><td>-0.7670</td></tr><tr><td>amplitude</td><td>decay</td><td>-0.5127</td></tr><tr><td>amplitude</td><td>c</td><td>0.1593</td></tr></table>"
      ],
      "text/plain": [
       "<lmfit.model.ModelResult at 0x7fd18c0dc1c0>"
      ]
     },
     "execution_count": 27,
     "metadata": {},
     "output_type": "execute_result"
    },
    {
     "data": {
      "image/png": "[encoded data removed]",
      "text/plain": [
       "<Figure size 432x432 with 2 Axes>"
      ]
     },
     "metadata": {
      "needs_background": "light"
     },
     "output_type": "display_data"
    }
   ],
   "source": [
    "fit = model.fit(data.counts, x=data.tijd, weights=1 / data.yerr)\n",
    "fit.plot(numpoints=50)\n",
    "fit"
   ]
  },
  {
   "cell_type": "markdown",
   "metadata": {},
   "source": [
    "Dat is een mooi resultaat. Op het oog gaat de fit goed door de punten en $\\chi^2_\\mathrm{red} = 1.167$. Dit resultaat is waarschijnlijker dan het resultaat van methode A, waar we de achtergrond negeren.\n",
    "\n",
    "### Methode C: Achtergrond van de data aftrekken\n",
    "\n",
    "Uit de opgave weten we dat er wel degelijk een achtergrond is, en dat die bepaald is op gemiddeld 12 counts per minuut. We kunnen een nieuwe kolom maken:"
   ]
  },
  {
   "cell_type": "code",
   "execution_count": 28,
   "metadata": {},
   "outputs": [],
   "source": [
    "data['nobkg'] = data.counts - 12"
   ]
  },
  {
   "cell_type": "markdown",
   "metadata": {},
   "source": [
    "De vraag is nu: wat doen we met de fout op deze data? Gebruiken we dezelfde fout als eerst? Maar dat was de wortel van het aantal counts mét achtergrond. De wortel van het aantal counts zónder achtergrond, dus `sqrt(data.nobkg)`, ligt voor de hand maar is niet juist. Niet elke meting had immers precies 12 counts aan achtergrond. We trekken 12 counts af, maar de verwachte onzekerheid op het *meten* van de achtergrond is $\\sqrt{12}$. Dat telt mee.\n",
    "\n",
    "We moeten de regels voor de foutenberekening aanroepen: $N_\\mathrm{nobkg} = N - N_\\mathrm{bkg}$. Dus de onzekerheid wordt gegeven door $\\delta N_\\mathrm{nobkg} = \\sqrt{(\\delta N)^2 + (\\delta N_\\mathrm{bkg})^2}$. De onzekerheid wordt, na aftrekken van de achtergrond, dus eigenlijk zelfs *groter*. Nu was de achtergrond gelukkig heel nauwkeurig bepaald, dus de onzekerheid op de grootte van de achtergrond is verwaarloosbaar klein. Dat betekent dat $\\delta N_\\mathrm{nobkg} = \\delta N = \\sqrt{N}$. We houden dus de oorspronkelijke onzekerheid."
   ]
  },
  {
   "cell_type": "code",
   "execution_count": 29,
   "metadata": {},
   "outputs": [
    {
     "data": {
      "text/html": [
       "<h2> Model</h2> Model(exponential) <h2>Fit Statistics</h2><table><tr><td>fitting method</td><td>leastsq</td><td></td></tr><tr><td># function evals</td><td>41</td><td></td></tr><tr><td># data points</td><td>9</td><td></td></tr><tr><td># variables</td><td>2</td><td></td></tr><tr><td>chi-square</td><td> 7.03239607</td><td></td></tr><tr><td>reduced chi-square</td><td> 1.00462801</td><td></td></tr><tr><td>Akaike info crit.</td><td> 1.77972615</td><td></td></tr><tr><td>Bayesian info crit.</td><td> 2.17417530</td><td></td></tr></table><h2>Variables</h2><table><tr><th> name </th><th> value </th><th> standard error </th><th> relative error </th><th> initial value </th><th> min </th><th> max </th><th> vary </th></tr><tr><td> amplitude </td><td>  1244.90156 </td><td>  30.3227178 </td><td> (2.44%) </td><td> 1 </td><td>        -inf </td><td>         inf </td><td> True </td></tr><tr><td> decay </td><td>  1.72502736 </td><td>  0.03890305 </td><td> (2.26%) </td><td> 1 </td><td>        -inf </td><td>         inf </td><td> True </td></tr></table><h2>Correlations (unreported correlations are < 0.100)</h2><table><tr><td>amplitude</td><td>decay</td><td>-0.6150</td></tr></table>"
      ],
      "text/plain": [
       "<lmfit.model.ModelResult at 0x7fd18ba292b0>"
      ]
     },
     "execution_count": 29,
     "metadata": {},
     "output_type": "execute_result"
    },
    {
     "data": {
      "image/png": "[encoded data removed]",
      "text/plain": [
       "<Figure size 432x432 with 2 Axes>"
      ]
     },
     "metadata": {
      "needs_background": "light"
     },
     "output_type": "display_data"
    }
   ],
   "source": [
    "model = models.ExponentialModel()\n",
    "fit = model.fit(data.nobkg, x=data.tijd, weights=1 / data.yerr)\n",
    "fit.plot(numpoints=50)\n",
    "fit"
   ]
  },
  {
   "cell_type": "markdown",
   "metadata": {},
   "source": [
    "De $\\chi_\\mathrm{red}^2 = 1.005$. Dit is dus de meest nauwkeurige methode om de halfwaardetijd te bepalen. De halfwaardetijd wordt gegeven door $t_{1/2} = \\lambda\\ln 2$."
   ]
  },
  {
   "cell_type": "code",
   "execution_count": 30,
   "metadata": {},
   "outputs": [
    {
     "name": "stdout",
     "output_type": "stream",
     "text": [
      "Halfwaardetijd: 1.196 +- 0.027 s.\n"
     ]
    }
   ],
   "source": [
    "t_half = fit.params['decay'].value * np.log(2)\n",
    "dt_half = fit.params['decay'].stderr * np.log(2)\n",
    "print(f\"Halfwaardetijd: {t_half:.3f} +- {dt_half:.3f} s.\")"
   ]
  },
  {
   "cell_type": "markdown",
   "metadata": {},
   "source": [
    "Dus $t_{1/2} = 1.196$ s. Het kan makkelijker zijn om een eigen model te maken, waar $t_{1/2}$ expliciet in voorkomt: $N(t) = N_0 \\cdot \\frac{1}{2}^{t/t_{1/2}}$."
   ]
  },
  {
   "cell_type": "code",
   "execution_count": 31,
   "metadata": {},
   "outputs": [],
   "source": [
    "verval = models.Model(lambda t, N0, thalf: N0 * .5 ** (t / thalf))"
   ]
  },
  {
   "cell_type": "markdown",
   "metadata": {},
   "source": [
    "Meestal moeten we een schatting opgeven van de parameters. Zonder die schatting is het goed mogelijk dat het fit-algoritme zoekt bij zulke onrealistische waardes dat er 'oneindig' uit de functie komt. Daar kan het algoritme niet goed mee omgaan. We kiezen gewoon de waarde 1 voor beide parameters:"
   ]
  },
  {
   "cell_type": "code",
   "execution_count": 32,
   "metadata": {},
   "outputs": [],
   "source": [
    "guess = verval.make_params(N0=1, thalf=1)"
   ]
  },
  {
   "cell_type": "code",
   "execution_count": 33,
   "metadata": {},
   "outputs": [
    {
     "data": {
      "text/html": [
       "<h2> Model</h2> Model(<lambda>) <h2>Fit Statistics</h2><table><tr><td>fitting method</td><td>leastsq</td><td></td></tr><tr><td># function evals</td><td>41</td><td></td></tr><tr><td># data points</td><td>9</td><td></td></tr><tr><td># variables</td><td>2</td><td></td></tr><tr><td>chi-square</td><td> 7.03239607</td><td></td></tr><tr><td>reduced chi-square</td><td> 1.00462801</td><td></td></tr><tr><td>Akaike info crit.</td><td> 1.77972615</td><td></td></tr><tr><td>Bayesian info crit.</td><td> 2.17417530</td><td></td></tr></table><h2>Variables</h2><table><tr><th> name </th><th> value </th><th> standard error </th><th> relative error </th><th> initial value </th><th> min </th><th> max </th><th> vary </th></tr><tr><td> N0 </td><td>  1244.90165 </td><td>  30.3225581 </td><td> (2.44%) </td><td> 1 </td><td>        -inf </td><td>         inf </td><td> True </td></tr><tr><td> thalf </td><td>  1.19569771 </td><td>  0.02696573 </td><td> (2.26%) </td><td> 1 </td><td>        -inf </td><td>         inf </td><td> True </td></tr></table><h2>Correlations (unreported correlations are < 0.100)</h2><table><tr><td>N0</td><td>thalf</td><td>-0.6150</td></tr></table>"
      ],
      "text/plain": [
       "<lmfit.model.ModelResult at 0x7fd18c0eb310>"
      ]
     },
     "execution_count": 33,
     "metadata": {},
     "output_type": "execute_result"
    },
    {
     "data": {
      "image/png": "[encoded data removed]",
      "text/plain": [
       "<Figure size 432x432 with 2 Axes>"
      ]
     },
     "metadata": {
      "needs_background": "light"
     },
     "output_type": "display_data"
    }
   ],
   "source": [
    "fit = verval.fit(data.nobkg, t=data.tijd, weights=1 / data.yerr, params=guess)\n",
    "fit.plot(numpoints=50)\n",
    "fit"
   ]
  },
  {
   "cell_type": "markdown",
   "metadata": {},
   "source": [
    "En we lezen nu meteen af dat $t_{1/2} = 1.196 \\pm 0.027$ s, ofwel $t_{1/2} = 1.196(27)$ s. Hetzelde resultaat als eerst, maar met iets minder rekenwerk."
   ]
  },
  {
   "cell_type": "markdown",
   "metadata": {},
   "source": [
    "## Casus 1 - biomechanica"
   ]
  },
  {
   "cell_type": "code",
   "execution_count": 34,
   "metadata": {},
   "outputs": [],
   "source": [
    "df = pd.read_csv('squat.csv')"
   ]
  },
  {
   "cell_type": "code",
   "execution_count": 35,
   "metadata": {},
   "outputs": [
    {
     "data": {
      "text/html": [
       "<div>\n",
       "<style scoped>\n",
       "    .dataframe tbody tr th:only-of-type {\n",
       "        vertical-align: middle;\n",
       "    }\n",
       "\n",
       "    .dataframe tbody tr th {\n",
       "        vertical-align: top;\n",
       "    }\n",
       "\n",
       "    .dataframe thead th {\n",
       "        text-align: right;\n",
       "    }\n",
       "</style>\n",
       "<table border=\"1\" class=\"dataframe\">\n",
       "  <thead>\n",
       "    <tr style=\"text-align: right;\">\n",
       "      <th></th>\n",
       "      <th>stance width</th>\n",
       "      <th>impulse</th>\n",
       "      <th>error</th>\n",
       "    </tr>\n",
       "  </thead>\n",
       "  <tbody>\n",
       "    <tr>\n",
       "      <th>0</th>\n",
       "      <td>0</td>\n",
       "      <td>161.170658</td>\n",
       "      <td>6.005381</td>\n",
       "    </tr>\n",
       "    <tr>\n",
       "      <th>1</th>\n",
       "      <td>10</td>\n",
       "      <td>171.565045</td>\n",
       "      <td>3.825325</td>\n",
       "    </tr>\n",
       "    <tr>\n",
       "      <th>2</th>\n",
       "      <td>20</td>\n",
       "      <td>171.038662</td>\n",
       "      <td>3.080887</td>\n",
       "    </tr>\n",
       "    <tr>\n",
       "      <th>3</th>\n",
       "      <td>30</td>\n",
       "      <td>175.302728</td>\n",
       "      <td>5.350336</td>\n",
       "    </tr>\n",
       "    <tr>\n",
       "      <th>4</th>\n",
       "      <td>40</td>\n",
       "      <td>193.371009</td>\n",
       "      <td>6.911534</td>\n",
       "    </tr>\n",
       "    <tr>\n",
       "      <th>5</th>\n",
       "      <td>50</td>\n",
       "      <td>177.071976</td>\n",
       "      <td>0.703771</td>\n",
       "    </tr>\n",
       "    <tr>\n",
       "      <th>6</th>\n",
       "      <td>60</td>\n",
       "      <td>188.268868</td>\n",
       "      <td>7.498550</td>\n",
       "    </tr>\n",
       "    <tr>\n",
       "      <th>7</th>\n",
       "      <td>70</td>\n",
       "      <td>184.368025</td>\n",
       "      <td>4.715182</td>\n",
       "    </tr>\n",
       "    <tr>\n",
       "      <th>8</th>\n",
       "      <td>80</td>\n",
       "      <td>170.993129</td>\n",
       "      <td>2.384634</td>\n",
       "    </tr>\n",
       "  </tbody>\n",
       "</table>\n",
       "</div>"
      ],
      "text/plain": [
       "   stance width     impulse     error\n",
       "0             0  161.170658  6.005381\n",
       "1            10  171.565045  3.825325\n",
       "2            20  171.038662  3.080887\n",
       "3            30  175.302728  5.350336\n",
       "4            40  193.371009  6.911534\n",
       "5            50  177.071976  0.703771\n",
       "6            60  188.268868  7.498550\n",
       "7            70  184.368025  4.715182\n",
       "8            80  170.993129  2.384634"
      ]
     },
     "execution_count": 35,
     "metadata": {},
     "output_type": "execute_result"
    }
   ],
   "source": [
    "df"
   ]
  },
  {
   "cell_type": "code",
   "execution_count": 36,
   "metadata": {
    "scrolled": false
   },
   "outputs": [
    {
     "data": {
      "text/plain": [
       "Text(0, 0.5, 'impulsverandering (kg m/s$^2$)')"
      ]
     },
     "execution_count": 36,
     "metadata": {},
     "output_type": "execute_result"
    },
    {
     "data": {
      "image/png": "[encoded data removed]",
      "text/plain": [
       "<Figure size 432x288 with 1 Axes>"
      ]
     },
     "metadata": {
      "needs_background": "light"
     },
     "output_type": "display_data"
    }
   ],
   "source": [
    "df.plot.scatter('stance width', 'impulse', yerr='error')\n",
    "plt.xlabel(\"standbreedte (cm)\")\n",
    "plt.ylabel(\"impulsverandering (kg m/s$^2$)\")"
   ]
  },
  {
   "cell_type": "markdown",
   "metadata": {},
   "source": [
    "Je kunt, na een fit, met Python ook de p-waarde berekenen. Bedenk: dat is de kans op een meting met een $\\tilde\\chi^2$-waarde net zo groot of groter dan de waarde die je hebt gevonden, *als het model klopt*. Hoe kleiner die kans, hoe kleiner de kans dat je model klopt. Python heeft een $\\chi^2$-distributie in de `scipy.stats` module. De `cdf`, de cumulatieve dichtheidsfunctie, geeft de kans op een *kleinere* $\\chi^2$-waarde. Let op dat je de *gewone* $\\chi^2$-waarde gebruikt en dat je ook het aantal vrijheidsgraden (aantal meetpunten - aantal parameters) moet opgeven. Die zijn allebei beschikbaar via `fit.chisqr` en `fit.nfree`."
   ]
  },
  {
   "cell_type": "code",
   "execution_count": 37,
   "metadata": {
    "scrolled": false
   },
   "outputs": [
    {
     "name": "stdout",
     "output_type": "stream",
     "text": [
      "P-value: 0.0003815006020080336\n"
     ]
    },
    {
     "data": {
      "text/html": [
       "<h2> Model</h2> Model(linear) <h2>Fit Statistics</h2><table><tr><td>fitting method</td><td>leastsq</td><td></td></tr><tr><td># function evals</td><td>7</td><td></td></tr><tr><td># data points</td><td>9</td><td></td></tr><tr><td># variables</td><td>1</td><td></td></tr><tr><td>chi-square</td><td> 28.5416077</td><td></td></tr><tr><td>reduced chi-square</td><td> 3.56770097</td><td></td></tr><tr><td>Akaike info crit.</td><td> 12.3872453</td><td></td></tr><tr><td>Bayesian info crit.</td><td> 12.5844699</td><td></td></tr></table><h2>Variables</h2><table><tr><th> name </th><th> value </th><th> standard error </th><th> relative error </th><th> initial value </th><th> min </th><th> max </th><th> vary </th></tr><tr><td> slope </td><td>  0.00000000 </td><td>  0.00000000 </td><td>  </td><td> 0 </td><td>        -inf </td><td>         inf </td><td> False </td></tr><tr><td> intercept </td><td>  176.389970 </td><td>  1.19105854 </td><td> (0.68%) </td><td> 0.0 </td><td>        -inf </td><td>         inf </td><td> True </td></tr></table>"
      ],
      "text/plain": [
       "<lmfit.model.ModelResult at 0x7fd18c82b160>"
      ]
     },
     "execution_count": 37,
     "metadata": {},
     "output_type": "execute_result"
    },
    {
     "data": {
      "image/png": "[encoded data removed]",
      "text/plain": [
       "<Figure size 432x432 with 2 Axes>"
      ]
     },
     "metadata": {
      "needs_background": "light"
     },
     "output_type": "display_data"
    }
   ],
   "source": [
    "model = models.LinearModel()\n",
    "params = model.make_params(slope=0)\n",
    "params['slope'].vary = False\n",
    "fit = model.fit(df['impulse'], x=df['stance width'], weights=1/df['error'], params=params)\n",
    "fit.plot()\n",
    "print(f\"P-value: {1 - chi2.cdf(fit.chisqr, fit.nfree)}\")\n",
    "fit"
   ]
  },
  {
   "cell_type": "code",
   "execution_count": 38,
   "metadata": {
    "scrolled": false
   },
   "outputs": [
    {
     "name": "stdout",
     "output_type": "stream",
     "text": [
      "P-value: 0.037356372999919785\n"
     ]
    },
    {
     "data": {
      "text/html": [
       "<h2> Model</h2> Model(<lambda>) <h2>Fit Statistics</h2><table><tr><td>fitting method</td><td>leastsq</td><td></td></tr><tr><td># function evals</td><td>17</td><td></td></tr><tr><td># data points</td><td>9</td><td></td></tr><tr><td># variables</td><td>3</td><td></td></tr><tr><td>chi-square</td><td> 13.3819211</td><td></td></tr><tr><td>reduced chi-square</td><td> 2.23032018</td><td></td></tr><tr><td>Akaike info crit.</td><td> 9.57012042</td><td></td></tr><tr><td>Bayesian info crit.</td><td> 10.1617942</td><td></td></tr></table><h2>Variables</h2><table><tr><th> name </th><th> value </th><th> standard error </th><th> relative error </th><th> initial value </th><th> min </th><th> max </th><th> vary </th></tr><tr><td> x_0 </td><td>  49.7577208 </td><td>  6.67812691 </td><td> (13.42%) </td><td> 0 </td><td>        -inf </td><td>         inf </td><td> True </td></tr><tr><td> A </td><td>  177.415164 </td><td>  1.02641514 </td><td> (0.58%) </td><td> 0 </td><td>        -inf </td><td>         inf </td><td> True </td></tr><tr><td> B </td><td> -0.00552276 </td><td>  0.00225923 </td><td> (40.91%) </td><td> 1 </td><td>        -inf </td><td>         inf </td><td> True </td></tr></table><h2>Correlations (unreported correlations are < 0.100)</h2><table><tr><td>A</td><td>B</td><td>-0.3964</td></tr><tr><td>x_0</td><td>B</td><td>0.3476</td></tr><tr><td>x_0</td><td>A</td><td>-0.1070</td></tr></table>"
      ],
      "text/plain": [
       "<lmfit.model.ModelResult at 0x7fd18ca83880>"
      ]
     },
     "execution_count": 38,
     "metadata": {},
     "output_type": "execute_result"
    },
    {
     "data": {
      "image/png": "[encoded data removed]",
      "text/plain": [
       "<Figure size 432x432 with 2 Axes>"
      ]
     },
     "metadata": {
      "needs_background": "light"
     },
     "output_type": "display_data"
    }
   ],
   "source": [
    "f = lambda x, x_0, A, B: A + B * (x - x_0) ** 2\n",
    "model = models.Model(f)\n",
    "fit = model.fit(df['impulse'], x=df['stance width'], weights=1/df['error'], x_0=0, A=0, B=1)\n",
    "fit.plot(numpoints=50)\n",
    "print(f\"P-value: {1 - chi2.cdf(fit.chisqr, fit.nfree)}\")\n",
    "fit"
   ]
  },
  {
   "cell_type": "code",
   "execution_count": 39,
   "metadata": {},
   "outputs": [],
   "source": [
    "df['error_c'] = sqrt((df.error ** 2).sum() / 9)"
   ]
  },
  {
   "cell_type": "code",
   "execution_count": 40,
   "metadata": {
    "scrolled": true
   },
   "outputs": [
    {
     "data": {
      "text/html": [
       "<div>\n",
       "<style scoped>\n",
       "    .dataframe tbody tr th:only-of-type {\n",
       "        vertical-align: middle;\n",
       "    }\n",
       "\n",
       "    .dataframe tbody tr th {\n",
       "        vertical-align: top;\n",
       "    }\n",
       "\n",
       "    .dataframe thead th {\n",
       "        text-align: right;\n",
       "    }\n",
       "</style>\n",
       "<table border=\"1\" class=\"dataframe\">\n",
       "  <thead>\n",
       "    <tr style=\"text-align: right;\">\n",
       "      <th></th>\n",
       "      <th>stance width</th>\n",
       "      <th>impulse</th>\n",
       "      <th>error</th>\n",
       "      <th>error_c</th>\n",
       "    </tr>\n",
       "  </thead>\n",
       "  <tbody>\n",
       "    <tr>\n",
       "      <th>0</th>\n",
       "      <td>0</td>\n",
       "      <td>161.170658</td>\n",
       "      <td>6.005381</td>\n",
       "      <td>4.957911</td>\n",
       "    </tr>\n",
       "    <tr>\n",
       "      <th>1</th>\n",
       "      <td>10</td>\n",
       "      <td>171.565045</td>\n",
       "      <td>3.825325</td>\n",
       "      <td>4.957911</td>\n",
       "    </tr>\n",
       "    <tr>\n",
       "      <th>2</th>\n",
       "      <td>20</td>\n",
       "      <td>171.038662</td>\n",
       "      <td>3.080887</td>\n",
       "      <td>4.957911</td>\n",
       "    </tr>\n",
       "    <tr>\n",
       "      <th>3</th>\n",
       "      <td>30</td>\n",
       "      <td>175.302728</td>\n",
       "      <td>5.350336</td>\n",
       "      <td>4.957911</td>\n",
       "    </tr>\n",
       "    <tr>\n",
       "      <th>4</th>\n",
       "      <td>40</td>\n",
       "      <td>193.371009</td>\n",
       "      <td>6.911534</td>\n",
       "      <td>4.957911</td>\n",
       "    </tr>\n",
       "    <tr>\n",
       "      <th>5</th>\n",
       "      <td>50</td>\n",
       "      <td>177.071976</td>\n",
       "      <td>0.703771</td>\n",
       "      <td>4.957911</td>\n",
       "    </tr>\n",
       "    <tr>\n",
       "      <th>6</th>\n",
       "      <td>60</td>\n",
       "      <td>188.268868</td>\n",
       "      <td>7.498550</td>\n",
       "      <td>4.957911</td>\n",
       "    </tr>\n",
       "    <tr>\n",
       "      <th>7</th>\n",
       "      <td>70</td>\n",
       "      <td>184.368025</td>\n",
       "      <td>4.715182</td>\n",
       "      <td>4.957911</td>\n",
       "    </tr>\n",
       "    <tr>\n",
       "      <th>8</th>\n",
       "      <td>80</td>\n",
       "      <td>170.993129</td>\n",
       "      <td>2.384634</td>\n",
       "      <td>4.957911</td>\n",
       "    </tr>\n",
       "  </tbody>\n",
       "</table>\n",
       "</div>"
      ],
      "text/plain": [
       "   stance width     impulse     error   error_c\n",
       "0             0  161.170658  6.005381  4.957911\n",
       "1            10  171.565045  3.825325  4.957911\n",
       "2            20  171.038662  3.080887  4.957911\n",
       "3            30  175.302728  5.350336  4.957911\n",
       "4            40  193.371009  6.911534  4.957911\n",
       "5            50  177.071976  0.703771  4.957911\n",
       "6            60  188.268868  7.498550  4.957911\n",
       "7            70  184.368025  4.715182  4.957911\n",
       "8            80  170.993129  2.384634  4.957911"
      ]
     },
     "execution_count": 40,
     "metadata": {},
     "output_type": "execute_result"
    }
   ],
   "source": [
    "df"
   ]
  },
  {
   "cell_type": "code",
   "execution_count": 41,
   "metadata": {
    "scrolled": false
   },
   "outputs": [
    {
     "name": "stdout",
     "output_type": "stream",
     "text": [
      "P-value: 6.962540275134987e-05\n"
     ]
    },
    {
     "data": {
      "text/html": [
       "<h2> Model</h2> Model(linear) <h2>Fit Statistics</h2><table><tr><td>fitting method</td><td>leastsq</td><td></td></tr><tr><td># function evals</td><td>5</td><td></td></tr><tr><td># data points</td><td>9</td><td></td></tr><tr><td># variables</td><td>1</td><td></td></tr><tr><td>chi-square</td><td> 32.7040925</td><td></td></tr><tr><td>reduced chi-square</td><td> 4.08801156</td><td></td></tr><tr><td>Akaike info crit.</td><td> 13.6124808</td><td></td></tr><tr><td>Bayesian info crit.</td><td> 13.8097054</td><td></td></tr></table><h2>Variables</h2><table><tr><th> name </th><th> value </th><th> standard error </th><th> relative error </th><th> initial value </th><th> min </th><th> max </th><th> vary </th></tr><tr><td> slope </td><td>  0.00000000 </td><td>  0.00000000 </td><td>  </td><td> 0 </td><td>        -inf </td><td>         inf </td><td> False </td></tr><tr><td> intercept </td><td>  177.016678 </td><td>  3.34143883 </td><td> (1.89%) </td><td> 0.0 </td><td>        -inf </td><td>         inf </td><td> True </td></tr></table>"
      ],
      "text/plain": [
       "<lmfit.model.ModelResult at 0x7fd18cceb190>"
      ]
     },
     "execution_count": 41,
     "metadata": {},
     "output_type": "execute_result"
    },
    {
     "data": {
      "image/png": "[encoded data removed]",
      "text/plain": [
       "<Figure size 432x432 with 2 Axes>"
      ]
     },
     "metadata": {
      "needs_background": "light"
     },
     "output_type": "display_data"
    }
   ],
   "source": [
    "model = models.LinearModel()\n",
    "params = model.make_params(slope=0)\n",
    "params['slope'].vary = False\n",
    "fit = model.fit(df['impulse'], x=df['stance width'], weights=1/df['error_c'], params=params)\n",
    "fit.plot()\n",
    "print(f\"P-value: {1 - chi2.cdf(fit.chisqr, fit.nfree)}\")\n",
    "fit"
   ]
  },
  {
   "cell_type": "code",
   "execution_count": 42,
   "metadata": {},
   "outputs": [
    {
     "name": "stdout",
     "output_type": "stream",
     "text": [
      "P-value: 0.09050124756292677\n"
     ]
    },
    {
     "data": {
      "text/html": [
       "<h2> Model</h2> Model(<lambda>) <h2>Fit Statistics</h2><table><tr><td>fitting method</td><td>leastsq</td><td></td></tr><tr><td># function evals</td><td>17</td><td></td></tr><tr><td># data points</td><td>9</td><td></td></tr><tr><td># variables</td><td>3</td><td></td></tr><tr><td>chi-square</td><td> 10.9319899</td><td></td></tr><tr><td>reduced chi-square</td><td> 1.82199831</td><td></td></tr><tr><td>Akaike info crit.</td><td> 7.75021888</td><td></td></tr><tr><td>Bayesian info crit.</td><td> 8.34189261</td><td></td></tr></table><h2>Variables</h2><table><tr><th> name </th><th> value </th><th> standard error </th><th> relative error </th><th> initial value </th><th> min </th><th> max </th><th> vary </th></tr><tr><td> x_0 </td><td>  49.3311217 </td><td>  5.50055004 </td><td> (11.15%) </td><td> 0 </td><td>        -inf </td><td>         inf </td><td> True </td></tr><tr><td> A </td><td>  184.685643 </td><td>  3.24206415 </td><td> (1.76%) </td><td> 0 </td><td>        -inf </td><td>         inf </td><td> True </td></tr><tr><td> B </td><td> -0.01017460 </td><td>  0.00381327 </td><td> (37.48%) </td><td> 1 </td><td>        -inf </td><td>         inf </td><td> True </td></tr></table><h2>Correlations (unreported correlations are < 0.100)</h2><table><tr><td>A</td><td>B</td><td>-0.6817</td></tr><tr><td>x_0</td><td>B</td><td>0.6358</td></tr><tr><td>x_0</td><td>A</td><td>-0.2415</td></tr></table>"
      ],
      "text/plain": [
       "<lmfit.model.ModelResult at 0x7fd18ce4a310>"
      ]
     },
     "execution_count": 42,
     "metadata": {},
     "output_type": "execute_result"
    },
    {
     "data": {
      "image/png": "[encoded data removed]",
      "text/plain": [
       "<Figure size 432x432 with 2 Axes>"
      ]
     },
     "metadata": {
      "needs_background": "light"
     },
     "output_type": "display_data"
    }
   ],
   "source": [
    "f = lambda x, x_0, A, B: A + B * (x - x_0) ** 2\n",
    "model = models.Model(f)\n",
    "fit = model.fit(df['impulse'], x=df['stance width'], weights=1/df['error_c'], x_0=0, A=0, B=1)\n",
    "fit.plot(numpoints=50)\n",
    "print(f\"P-value: {1 - chi2.cdf(fit.chisqr, fit.nfree)}\")\n",
    "fit"
   ]
  },
  {
   "cell_type": "markdown",
   "metadata": {},
   "source": [
    "## Casus 2 - röntgenfluorescentie"
   ]
  },
  {
   "cell_type": "code",
   "execution_count": 43,
   "metadata": {},
   "outputs": [],
   "source": [
    "df = pd.read_csv(\"X-ray.csv\")"
   ]
  },
  {
   "cell_type": "code",
   "execution_count": 44,
   "metadata": {},
   "outputs": [
    {
     "data": {
      "text/html": [
       "<div>\n",
       "<style scoped>\n",
       "    .dataframe tbody tr th:only-of-type {\n",
       "        vertical-align: middle;\n",
       "    }\n",
       "\n",
       "    .dataframe tbody tr th {\n",
       "        vertical-align: top;\n",
       "    }\n",
       "\n",
       "    .dataframe thead th {\n",
       "        text-align: right;\n",
       "    }\n",
       "</style>\n",
       "<table border=\"1\" class=\"dataframe\">\n",
       "  <thead>\n",
       "    <tr style=\"text-align: right;\">\n",
       "      <th></th>\n",
       "      <th>energy</th>\n",
       "      <th>counts</th>\n",
       "      <th>error</th>\n",
       "    </tr>\n",
       "  </thead>\n",
       "  <tbody>\n",
       "    <tr>\n",
       "      <th>0</th>\n",
       "      <td>0.058594</td>\n",
       "      <td>4.096653</td>\n",
       "      <td>0.943276</td>\n",
       "    </tr>\n",
       "    <tr>\n",
       "      <th>1</th>\n",
       "      <td>0.117188</td>\n",
       "      <td>4.115930</td>\n",
       "      <td>0.950058</td>\n",
       "    </tr>\n",
       "    <tr>\n",
       "      <th>2</th>\n",
       "      <td>0.175781</td>\n",
       "      <td>4.819358</td>\n",
       "      <td>0.956939</td>\n",
       "    </tr>\n",
       "    <tr>\n",
       "      <th>3</th>\n",
       "      <td>0.234375</td>\n",
       "      <td>4.155654</td>\n",
       "      <td>0.963920</td>\n",
       "    </tr>\n",
       "    <tr>\n",
       "      <th>4</th>\n",
       "      <td>0.292969</td>\n",
       "      <td>3.184677</td>\n",
       "      <td>0.971004</td>\n",
       "    </tr>\n",
       "    <tr>\n",
       "      <th>...</th>\n",
       "      <td>...</td>\n",
       "      <td>...</td>\n",
       "      <td>...</td>\n",
       "    </tr>\n",
       "    <tr>\n",
       "      <th>251</th>\n",
       "      <td>14.765625</td>\n",
       "      <td>4.328143</td>\n",
       "      <td>1.194617</td>\n",
       "    </tr>\n",
       "    <tr>\n",
       "      <th>252</th>\n",
       "      <td>14.824219</td>\n",
       "      <td>4.644998</td>\n",
       "      <td>1.183907</td>\n",
       "    </tr>\n",
       "    <tr>\n",
       "      <th>253</th>\n",
       "      <td>14.882812</td>\n",
       "      <td>4.157970</td>\n",
       "      <td>1.173388</td>\n",
       "    </tr>\n",
       "    <tr>\n",
       "      <th>254</th>\n",
       "      <td>14.941406</td>\n",
       "      <td>2.322101</td>\n",
       "      <td>1.163054</td>\n",
       "    </tr>\n",
       "    <tr>\n",
       "      <th>255</th>\n",
       "      <td>15.000000</td>\n",
       "      <td>4.891560</td>\n",
       "      <td>1.152901</td>\n",
       "    </tr>\n",
       "  </tbody>\n",
       "</table>\n",
       "<p>256 rows × 3 columns</p>\n",
       "</div>"
      ],
      "text/plain": [
       "        energy    counts     error\n",
       "0     0.058594  4.096653  0.943276\n",
       "1     0.117188  4.115930  0.950058\n",
       "2     0.175781  4.819358  0.956939\n",
       "3     0.234375  4.155654  0.963920\n",
       "4     0.292969  3.184677  0.971004\n",
       "..         ...       ...       ...\n",
       "251  14.765625  4.328143  1.194617\n",
       "252  14.824219  4.644998  1.183907\n",
       "253  14.882812  4.157970  1.173388\n",
       "254  14.941406  2.322101  1.163054\n",
       "255  15.000000  4.891560  1.152901\n",
       "\n",
       "[256 rows x 3 columns]"
      ]
     },
     "execution_count": 44,
     "metadata": {},
     "output_type": "execute_result"
    }
   ],
   "source": [
    "df"
   ]
  },
  {
   "cell_type": "code",
   "execution_count": 45,
   "metadata": {},
   "outputs": [
    {
     "data": {
      "text/plain": [
       "<AxesSubplot:xlabel='energy', ylabel='counts'>"
      ]
     },
     "execution_count": 45,
     "metadata": {},
     "output_type": "execute_result"
    },
    {
     "data": {
      "image/png": "[encoded data removed]",
      "text/plain": [
       "<Figure size 432x288 with 1 Axes>"
      ]
     },
     "metadata": {
      "needs_background": "light"
     },
     "output_type": "display_data"
    }
   ],
   "source": [
    "df.plot.scatter('energy', 'counts', yerr='error')"
   ]
  },
  {
   "cell_type": "code",
   "execution_count": 46,
   "metadata": {},
   "outputs": [
    {
     "data": {
      "text/html": [
       "<h2> Model</h2> (Model(gaussian) + Model(constant)) <h2>Fit Statistics</h2><table><tr><td>fitting method</td><td>leastsq</td><td></td></tr><tr><td># function evals</td><td>182</td><td></td></tr><tr><td># data points</td><td>256</td><td></td></tr><tr><td># variables</td><td>4</td><td></td></tr><tr><td>chi-square</td><td> 1565.05225</td><td></td></tr><tr><td>reduced chi-square</td><td> 6.21052479</td><td></td></tr><tr><td>Akaike info crit.</td><td> 471.487243</td><td></td></tr><tr><td>Bayesian info crit.</td><td> 485.667953</td><td></td></tr></table><h2>Variables</h2><table><tr><th> name </th><th> value </th><th> standard error </th><th> relative error </th><th> initial value </th><th> min </th><th> max </th><th> vary </th><th> expression </th></tr><tr><td> amplitude </td><td>  507.443440 </td><td>  13.7653650 </td><td> (2.71%) </td><td> 1.0 </td><td>        -inf </td><td>         inf </td><td> True </td><td>  </td></tr><tr><td> center </td><td>  8.11171468 </td><td>  0.01225222 </td><td> (0.15%) </td><td> 8 </td><td>        -inf </td><td>         inf </td><td> True </td><td>  </td></tr><tr><td> sigma </td><td>  0.40818360 </td><td>  0.01041282 </td><td> (2.55%) </td><td> 1.0 </td><td>  0.00000000 </td><td>         inf </td><td> True </td><td>  </td></tr><tr><td> c </td><td>  4.96461916 </td><td>  0.27561344 </td><td> (5.55%) </td><td> 0.0 </td><td>        -inf </td><td>         inf </td><td> True </td><td>  </td></tr><tr><td> fwhm </td><td>  0.96119891 </td><td>  0.02452032 </td><td> (2.55%) </td><td> 2.35482 </td><td>        -inf </td><td>         inf </td><td> False </td><td> 2.3548200*sigma </td></tr><tr><td> height </td><td>  495.954889 </td><td>  16.2665206 </td><td> (3.28%) </td><td> 0.3989423 </td><td>        -inf </td><td>         inf </td><td> False </td><td> 0.3989423*amplitude/max(2.220446049250313e-16, sigma) </td></tr></table><h2>Correlations (unreported correlations are < 0.100)</h2><table><tr><td>amplitude</td><td>center</td><td>0.2983</td></tr><tr><td>center</td><td>sigma</td><td>0.2764</td></tr><tr><td>amplitude</td><td>sigma</td><td>0.2246</td></tr></table>"
      ],
      "text/plain": [
       "<lmfit.model.ModelResult at 0x7fd18ca01640>"
      ]
     },
     "execution_count": 46,
     "metadata": {},
     "output_type": "execute_result"
    },
    {
     "data": {
      "image/png": "[encoded data removed]",
      "text/plain": [
       "<Figure size 432x432 with 2 Axes>"
      ]
     },
     "metadata": {
      "needs_background": "light"
     },
     "output_type": "display_data"
    }
   ],
   "source": [
    "model = models.GaussianModel() + models.ConstantModel()\n",
    "fit = model.fit(df['counts'], x=df['energy'], weights=1/df['error'], center=8)\n",
    "fit.plot()\n",
    "fit"
   ]
  },
  {
   "cell_type": "code",
   "execution_count": 47,
   "metadata": {},
   "outputs": [],
   "source": [
    "df = pd.read_csv('X-ray-invar.csv')"
   ]
  },
  {
   "cell_type": "code",
   "execution_count": 48,
   "metadata": {},
   "outputs": [
    {
     "data": {
      "text/html": [
       "<div>\n",
       "<style scoped>\n",
       "    .dataframe tbody tr th:only-of-type {\n",
       "        vertical-align: middle;\n",
       "    }\n",
       "\n",
       "    .dataframe tbody tr th {\n",
       "        vertical-align: top;\n",
       "    }\n",
       "\n",
       "    .dataframe thead th {\n",
       "        text-align: right;\n",
       "    }\n",
       "</style>\n",
       "<table border=\"1\" class=\"dataframe\">\n",
       "  <thead>\n",
       "    <tr style=\"text-align: right;\">\n",
       "      <th></th>\n",
       "      <th>energy</th>\n",
       "      <th>counts</th>\n",
       "      <th>error</th>\n",
       "    </tr>\n",
       "  </thead>\n",
       "  <tbody>\n",
       "    <tr>\n",
       "      <th>0</th>\n",
       "      <td>0.058594</td>\n",
       "      <td>2.531965</td>\n",
       "      <td>1.158990</td>\n",
       "    </tr>\n",
       "    <tr>\n",
       "      <th>1</th>\n",
       "      <td>0.117188</td>\n",
       "      <td>3.951948</td>\n",
       "      <td>1.169313</td>\n",
       "    </tr>\n",
       "    <tr>\n",
       "      <th>2</th>\n",
       "      <td>0.175781</td>\n",
       "      <td>4.689784</td>\n",
       "      <td>1.179822</td>\n",
       "    </tr>\n",
       "    <tr>\n",
       "      <th>3</th>\n",
       "      <td>0.234375</td>\n",
       "      <td>6.036497</td>\n",
       "      <td>1.190523</td>\n",
       "    </tr>\n",
       "    <tr>\n",
       "      <th>4</th>\n",
       "      <td>0.292969</td>\n",
       "      <td>2.241993</td>\n",
       "      <td>1.201422</td>\n",
       "    </tr>\n",
       "    <tr>\n",
       "      <th>...</th>\n",
       "      <td>...</td>\n",
       "      <td>...</td>\n",
       "      <td>...</td>\n",
       "    </tr>\n",
       "    <tr>\n",
       "      <th>251</th>\n",
       "      <td>14.765625</td>\n",
       "      <td>3.346320</td>\n",
       "      <td>0.977421</td>\n",
       "    </tr>\n",
       "    <tr>\n",
       "      <th>252</th>\n",
       "      <td>14.824219</td>\n",
       "      <td>4.978718</td>\n",
       "      <td>0.970202</td>\n",
       "    </tr>\n",
       "    <tr>\n",
       "      <th>253</th>\n",
       "      <td>14.882812</td>\n",
       "      <td>1.386599</td>\n",
       "      <td>0.963091</td>\n",
       "    </tr>\n",
       "    <tr>\n",
       "      <th>254</th>\n",
       "      <td>14.941406</td>\n",
       "      <td>2.722878</td>\n",
       "      <td>0.956083</td>\n",
       "    </tr>\n",
       "    <tr>\n",
       "      <th>255</th>\n",
       "      <td>15.000000</td>\n",
       "      <td>2.711101</td>\n",
       "      <td>0.949177</td>\n",
       "    </tr>\n",
       "  </tbody>\n",
       "</table>\n",
       "<p>256 rows × 3 columns</p>\n",
       "</div>"
      ],
      "text/plain": [
       "        energy    counts     error\n",
       "0     0.058594  2.531965  1.158990\n",
       "1     0.117188  3.951948  1.169313\n",
       "2     0.175781  4.689784  1.179822\n",
       "3     0.234375  6.036497  1.190523\n",
       "4     0.292969  2.241993  1.201422\n",
       "..         ...       ...       ...\n",
       "251  14.765625  3.346320  0.977421\n",
       "252  14.824219  4.978718  0.970202\n",
       "253  14.882812  1.386599  0.963091\n",
       "254  14.941406  2.722878  0.956083\n",
       "255  15.000000  2.711101  0.949177\n",
       "\n",
       "[256 rows x 3 columns]"
      ]
     },
     "execution_count": 48,
     "metadata": {},
     "output_type": "execute_result"
    }
   ],
   "source": [
    "df"
   ]
  },
  {
   "cell_type": "code",
   "execution_count": 49,
   "metadata": {
    "scrolled": false
   },
   "outputs": [
    {
     "data": {
      "text/plain": [
       "<AxesSubplot:xlabel='energy', ylabel='counts'>"
      ]
     },
     "execution_count": 49,
     "metadata": {},
     "output_type": "execute_result"
    },
    {
     "data": {
      "image/png": "[encoded data removed]",
      "text/plain": [
       "<Figure size 432x288 with 1 Axes>"
      ]
     },
     "metadata": {
      "needs_background": "light"
     },
     "output_type": "display_data"
    }
   ],
   "source": [
    "df.plot.scatter('energy', 'counts', yerr='error')"
   ]
  },
  {
   "cell_type": "markdown",
   "metadata": {},
   "source": [
    "Merk op dat er voor zo'n relatief ingewikkeld model (veel parameters) goede beginwaardes gekozen moeten worden."
   ]
  },
  {
   "cell_type": "code",
   "execution_count": 50,
   "metadata": {
    "scrolled": false
   },
   "outputs": [
    {
     "data": {
      "text/html": [
       "<h2> Model</h2> ((Model(constant) + Model(gaussian, prefix='p1_')) + Model(gaussian, prefix='p2_')) <h2>Fit Statistics</h2><table><tr><td>fitting method</td><td>leastsq</td><td></td></tr><tr><td># function evals</td><td>105</td><td></td></tr><tr><td># data points</td><td>256</td><td></td></tr><tr><td># variables</td><td>7</td><td></td></tr><tr><td>chi-square</td><td> 1112.56953</td><td></td></tr><tr><td>reduced chi-square</td><td> 4.46815073</td><td></td></tr><tr><td>Akaike info crit.</td><td> 390.128017</td><td></td></tr><tr><td>Bayesian info crit.</td><td> 414.944259</td><td></td></tr></table><h2>Variables</h2><table><tr><th> name </th><th> value </th><th> standard error </th><th> relative error </th><th> initial value </th><th> min </th><th> max </th><th> vary </th><th> expression </th></tr><tr><td> c </td><td>  4.62964103 </td><td>  0.23749924 </td><td> (5.13%) </td><td> 0.0 </td><td>        -inf </td><td>         inf </td><td> True </td><td>  </td></tr><tr><td> p1_amplitude </td><td>  334.621040 </td><td>  12.5227020 </td><td> (3.74%) </td><td> 450 </td><td>        -inf </td><td>         inf </td><td> True </td><td>  </td></tr><tr><td> p1_center </td><td>  6.39119753 </td><td>  0.01733319 </td><td> (0.27%) </td><td> 6.5 </td><td>        -inf </td><td>         inf </td><td> True </td><td>  </td></tr><tr><td> p1_sigma </td><td>  0.37434927 </td><td>  0.01525452 </td><td> (4.07%) </td><td> 0.2 </td><td>  0.00000000 </td><td>         inf </td><td> True </td><td>  </td></tr><tr><td> p2_amplitude </td><td>  191.874463 </td><td>  11.1433739 </td><td> (5.81%) </td><td> 250 </td><td>        -inf </td><td>         inf </td><td> True </td><td>  </td></tr><tr><td> p2_center </td><td>  7.52706159 </td><td>  0.02277675 </td><td> (0.30%) </td><td> 7.5 </td><td>        -inf </td><td>         inf </td><td> True </td><td>  </td></tr><tr><td> p2_sigma </td><td>  0.32567602 </td><td>  0.01890091 </td><td> (5.80%) </td><td> 0.2 </td><td>  0.00000000 </td><td>         inf </td><td> True </td><td>  </td></tr><tr><td> p1_fwhm </td><td>  0.88152515 </td><td>  0.03592165 </td><td> (4.07%) </td><td> 0.47096400000000005 </td><td>        -inf </td><td>         inf </td><td> False </td><td> 2.3548200*p1_sigma </td></tr><tr><td> p1_height </td><td>  356.604105 </td><td>  13.7126314 </td><td> (3.85%) </td><td> 897.6201750000001 </td><td>        -inf </td><td>         inf </td><td> False </td><td> 0.3989423*p1_amplitude/max(2.220446049250313e-16, p1_sigma) </td></tr><tr><td> p2_fwhm </td><td>  0.76690841 </td><td>  0.04450825 </td><td> (5.80%) </td><td> 0.47096400000000005 </td><td>        -inf </td><td>         inf </td><td> False </td><td> 2.3548200*p2_sigma </td></tr><tr><td> p2_height </td><td>  235.039837 </td><td>  11.8682509 </td><td> (5.05%) </td><td> 498.67787500000003 </td><td>        -inf </td><td>         inf </td><td> False </td><td> 0.3989423*p2_amplitude/max(2.220446049250313e-16, p2_sigma) </td></tr></table><h2>Correlations (unreported correlations are < 0.100)</h2><table><tr><td>p1_center</td><td>p2_center</td><td>0.6444</td></tr><tr><td>p2_amplitude</td><td>p2_center</td><td>-0.6357</td></tr><tr><td>p2_amplitude</td><td>p2_sigma</td><td>0.6218</td></tr><tr><td>p2_center</td><td>p2_sigma</td><td>-0.6157</td></tr><tr><td>p1_sigma</td><td>p2_center</td><td>0.6137</td></tr><tr><td>p1_center</td><td>p2_amplitude</td><td>-0.6053</td></tr><tr><td>p1_sigma</td><td>p2_amplitude</td><td>-0.5923</td></tr><tr><td>p1_center</td><td>p2_sigma</td><td>-0.5885</td></tr><tr><td>p1_center</td><td>p1_sigma</td><td>0.5832</td></tr><tr><td>p1_amplitude</td><td>p2_center</td><td>0.5489</td></tr><tr><td>p1_amplitude</td><td>p1_center</td><td>0.5194</td></tr><tr><td>p1_amplitude</td><td>p1_sigma</td><td>0.5188</td></tr><tr><td>p1_amplitude</td><td>p2_sigma</td><td>-0.5154</td></tr><tr><td>p1_sigma</td><td>p2_sigma</td><td>-0.5140</td></tr><tr><td>p1_amplitude</td><td>p2_amplitude</td><td>-0.5102</td></tr></table>"
      ],
      "text/plain": [
       "<lmfit.model.ModelResult at 0x7fd18c494250>"
      ]
     },
     "execution_count": 50,
     "metadata": {},
     "output_type": "execute_result"
    },
    {
     "data": {
      "image/png": "[encoded data removed]",
      "text/plain": [
       "<Figure size 432x432 with 2 Axes>"
      ]
     },
     "metadata": {
      "needs_background": "light"
     },
     "output_type": "display_data"
    }
   ],
   "source": [
    "model = models.ConstantModel() + models.GaussianModel(prefix='p1_') + models.GaussianModel(prefix='p2_')\n",
    "fit = model.fit(df['counts'], x=df['energy'], weights=1/df['error'], p1_center=6.5, p2_center=7.5, p1_sigma=.2,\n",
    "                p2_sigma=.2, p1_amplitude=450, p2_amplitude=250)\n",
    "fit.plot()\n",
    "fit"
   ]
  }
 ],
 "metadata": {
  "kernelspec": {
   "display_name": "Python 3",
   "language": "python",
   "name": "python3"
  },
  "language_info": {
   "codemirror_mode": {
    "name": "ipython",
    "version": 3
   },
   "file_extension": ".py",
   "mimetype": "text/x-python",
   "name": "python",
   "nbconvert_exporter": "python",
   "pygments_lexer": "ipython3",
   "version": "3.8.5"
  },
  "toc": {
   "base_numbering": 1,
   "nav_menu": {},
   "number_sections": true,
   "sideBar": true,
   "skip_h1_title": false,
   "title_cell": "Table of Contents",
   "title_sidebar": "Contents",
   "toc_cell": false,
   "toc_position": {},
   "toc_section_display": true,
   "toc_window_display": false
  }
 },
 "nbformat": 4,
 "nbformat_minor": 4
}
