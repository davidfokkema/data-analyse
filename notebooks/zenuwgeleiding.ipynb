{
 "cells": [
  {
   "cell_type": "code",
   "execution_count": 2,
   "metadata": {},
   "outputs": [],
   "source": [
    "import numpy as np"
   ]
  },
  {
   "cell_type": "markdown",
   "metadata": {},
   "source": [
    "## Groep 1"
   ]
  },
  {
   "cell_type": "code",
   "execution_count": 3,
   "metadata": {},
   "outputs": [
    {
     "name": "stdout",
     "output_type": "stream",
     "text": [
      "Gemiddelde: 3.64, standaarddeviatie v/h gemiddelde: 0.24\n"
     ]
    }
   ],
   "source": [
    "N1 = 17\n",
    "g1_enkel = [5.7, 4.24, 3.51, 3.61, 3.35, 3.50, 3.24, 3.25, 3.04, 2.96]\n",
    "t1_enkel = np.mean(g1_enkel)\n",
    "dt1_enkel = np.std(g1_enkel) / np.sqrt(len(g1_enkel))\n",
    "\n",
    "print(f\"Gemiddelde: {t1_enkel:.2f}, standaarddeviatie v/h gemiddelde: {dt1_enkel:.2f}\")"
   ]
  },
  {
   "cell_type": "code",
   "execution_count": 4,
   "metadata": {},
   "outputs": [
    {
     "name": "stdout",
     "output_type": "stream",
     "text": [
      "Gemiddelde: 2.45, standaarddeviatie v/h gemiddelde: 0.13\n"
     ]
    }
   ],
   "source": [
    "g1_schouder = [3.27, 2.9, 2.67, 2.4, 2.43, 2.44, 2.35, 2.14, 2.11, 1.78]\n",
    "t1_schouder = np.mean(g1_schouder)\n",
    "dt1_schouder = np.std(g1_schouder) / np.sqrt(len(g1_schouder))\n",
    "\n",
    "print(f\"Gemiddelde: {t1_schouder:.2f}, standaarddeviatie v/h gemiddelde: {dt1_schouder:.2f}\")"
   ]
  },
  {
   "cell_type": "code",
   "execution_count": 5,
   "metadata": {},
   "outputs": [
    {
     "name": "stdout",
     "output_type": "stream",
     "text": [
      "Transporttijd: 1.19 +/- 0.27\n"
     ]
    }
   ],
   "source": [
    "t1_zenuw = t1_enkel - t1_schouder\n",
    "dt1_zenuw = np.sqrt(dt1_enkel ** 2 + dt1_schouder ** 2)\n",
    "\n",
    "print(f\"Transporttijd: {t1_zenuw:.2f} +/- {dt1_zenuw:.2f}\")"
   ]
  },
  {
   "cell_type": "code",
   "execution_count": 6,
   "metadata": {},
   "outputs": [
    {
     "name": "stdout",
     "output_type": "stream",
     "text": [
      "Snelheid: 20.15 +/- 4.62\n"
     ]
    }
   ],
   "source": [
    "v1_zenuw = (N1 - 1) * 1.50 / t1_zenuw\n",
    "dv1_zenuw = v1_zenuw * (dt1_zenuw / t1_zenuw)\n",
    "\n",
    "print(f\"Snelheid: {v1_zenuw:.2f} +/- {dv1_zenuw:.2f}\")"
   ]
  },
  {
   "cell_type": "markdown",
   "metadata": {},
   "source": [
    "## Uitvoer voor handleiding"
   ]
  },
  {
   "cell_type": "code",
   "execution_count": 6,
   "metadata": {},
   "outputs": [
    {
     "name": "stdout",
     "output_type": "stream",
     "text": [
      "1 & 5.7 & 3.27 \\\\\n",
      "2 & 4.24 & 2.9 \\\\\n",
      "3 & 3.51 & 2.67 \\\\\n",
      "4 & 3.61 & 2.4 \\\\\n",
      "5 & 3.35 & 2.43 \\\\\n",
      "6 & 3.5 & 2.44 \\\\\n",
      "7 & 3.24 & 2.35 \\\\\n",
      "8 & 3.25 & 2.14 \\\\\n",
      "9 & 3.04 & 2.11 \\\\\n",
      "10 & 2.96 & 1.78 \\\\\n"
     ]
    }
   ],
   "source": [
    "for N, (u, v) in enumerate(zip(g1_enkel, g1_schouder), 1):\n",
    "    print(fr\"{N} & {u} & {v} \\\\\")"
   ]
  }
 ],
 "metadata": {
  "kernelspec": {
   "display_name": "Python 3",
   "language": "python",
   "name": "python3"
  },
  "language_info": {
   "codemirror_mode": {
    "name": "ipython",
    "version": 3
   },
   "file_extension": ".py",
   "mimetype": "text/x-python",
   "name": "python",
   "nbconvert_exporter": "python",
   "pygments_lexer": "ipython3",
   "version": "3.8.5"
  },
  "toc": {
   "base_numbering": 1,
   "nav_menu": {},
   "number_sections": true,
   "sideBar": true,
   "skip_h1_title": false,
   "title_cell": "Table of Contents",
   "title_sidebar": "Contents",
   "toc_cell": false,
   "toc_position": {},
   "toc_section_display": true,
   "toc_window_display": false
  }
 },
 "nbformat": 4,
 "nbformat_minor": 4
}
