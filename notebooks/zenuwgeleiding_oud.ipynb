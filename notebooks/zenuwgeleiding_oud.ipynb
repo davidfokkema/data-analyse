{
 "cells": [
  {
   "cell_type": "code",
   "execution_count": 1,
   "metadata": {},
   "outputs": [],
   "source": [
    "import numpy as np"
   ]
  },
  {
   "cell_type": "markdown",
   "metadata": {},
   "source": [
    "## Groep 1"
   ]
  },
  {
   "cell_type": "code",
   "execution_count": 2,
   "metadata": {},
   "outputs": [
    {
     "name": "stdout",
     "output_type": "stream",
     "text": [
      "Gemiddelde: 3.64, standaarddeviatie v/h gemiddelde: 0.19\n"
     ]
    }
   ],
   "source": [
    "N1 = 17\n",
    "g1_enkel = [5.7, 4.24, 3.51, 3.61, 3.35, 3.50, 3.24, 3.25, 3.04, 2.96]\n",
    "t1_enkel = np.mean(g1_enkel)\n",
    "dt1_enkel = np.std(g1_enkel) / np.sqrt(N1)\n",
    "\n",
    "print(f\"Gemiddelde: {t1_enkel:.2f}, standaarddeviatie v/h gemiddelde: {dt1_enkel:.2f}\")"
   ]
  },
  {
   "cell_type": "code",
   "execution_count": 3,
   "metadata": {},
   "outputs": [
    {
     "name": "stdout",
     "output_type": "stream",
     "text": [
      "Gemiddelde: 2.45, standaarddeviatie v/h gemiddelde: 0.10\n"
     ]
    }
   ],
   "source": [
    "g1_schouder = [3.27, 2.9, 2.67, 2.4, 2.43, 2.44, 2.35, 2.14, 2.11, 1.78]\n",
    "t1_schouder = np.mean(g1_schouder)\n",
    "dt1_schouder = np.std(g1_schouder) / np.sqrt(N1)\n",
    "\n",
    "print(f\"Gemiddelde: {t1_schouder:.2f}, standaarddeviatie v/h gemiddelde: {dt1_schouder:.2f}\")"
   ]
  },
  {
   "cell_type": "code",
   "execution_count": 4,
   "metadata": {},
   "outputs": [
    {
     "name": "stdout",
     "output_type": "stream",
     "text": [
      "Transporttijd: 1.19 +/- 0.21\n"
     ]
    }
   ],
   "source": [
    "t1_zenuw = t1_enkel - t1_schouder\n",
    "dt1_zenuw = np.sqrt(dt1_enkel ** 2 + dt1_schouder ** 2)\n",
    "\n",
    "print(f\"Transporttijd: {t1_zenuw:.2f} +/- {dt1_zenuw:.2f}\")"
   ]
  },
  {
   "cell_type": "code",
   "execution_count": 5,
   "metadata": {},
   "outputs": [
    {
     "name": "stdout",
     "output_type": "stream",
     "text": [
      "Snelheid: 20.15 +/- 3.54\n"
     ]
    }
   ],
   "source": [
    "v1_zenuw = (N1 - 1) * 1.50 / t1_zenuw\n",
    "dv1_zenuw = v1_zenuw * (dt1_zenuw / t1_zenuw)\n",
    "\n",
    "print(f\"Snelheid: {v1_zenuw:.2f} +/- {dv1_zenuw:.2f}\")"
   ]
  },
  {
   "cell_type": "code",
   "execution_count": 6,
   "metadata": {},
   "outputs": [
    {
     "name": "stdout",
     "output_type": "stream",
     "text": [
      "1 & 5.7 & 3.27 \\\\\n",
      "2 & 4.24 & 2.9 \\\\\n",
      "3 & 3.51 & 2.67 \\\\\n",
      "4 & 3.61 & 2.4 \\\\\n",
      "5 & 3.35 & 2.43 \\\\\n",
      "6 & 3.5 & 2.44 \\\\\n",
      "7 & 3.24 & 2.35 \\\\\n",
      "8 & 3.25 & 2.14 \\\\\n",
      "9 & 3.04 & 2.11 \\\\\n",
      "10 & 2.96 & 1.78 \\\\\n"
     ]
    }
   ],
   "source": [
    "for N, (u, v) in enumerate(zip(g1_enkel, g1_schouder), 1):\n",
    "    print(fr\"{N} & {u} & {v} \\\\\")"
   ]
  },
  {
   "cell_type": "markdown",
   "metadata": {},
   "source": [
    "## Groep 2"
   ]
  },
  {
   "cell_type": "code",
   "execution_count": 7,
   "metadata": {},
   "outputs": [
    {
     "name": "stdout",
     "output_type": "stream",
     "text": [
      "Gemiddelde: 2.85, standaarddeviatie v/h gemiddelde: 0.09\n"
     ]
    }
   ],
   "source": [
    "N2 = 11\n",
    "g2_enkel = [3.15, 2.71, 3.56, 2.87, 2.87, 2.79, 2.49, 2.81, 2.55, 2.73]\n",
    "t2_enkel = np.mean(g2_enkel)\n",
    "dt2_enkel = np.std(g2_enkel) / np.sqrt(N2)\n",
    "\n",
    "print(f\"Gemiddelde: {t2_enkel:.2f}, standaarddeviatie v/h gemiddelde: {dt2_enkel:.2f}\")"
   ]
  },
  {
   "cell_type": "code",
   "execution_count": 8,
   "metadata": {},
   "outputs": [
    {
     "name": "stdout",
     "output_type": "stream",
     "text": [
      "Gemiddelde: 2.14, standaarddeviatie v/h gemiddelde: 0.20\n"
     ]
    }
   ],
   "source": [
    "g2_schouder = [3.979, 1.469, 2.124, 2.445, 1.795, 1.749, 1.904, 1.990, 2.324, 1.661]\n",
    "t2_schouder = np.mean(g2_schouder)\n",
    "dt2_schouder = np.std(g2_schouder) / np.sqrt(N2)\n",
    "\n",
    "print(f\"Gemiddelde: {t2_schouder:.2f}, standaarddeviatie v/h gemiddelde: {dt2_schouder:.2f}\")"
   ]
  },
  {
   "cell_type": "code",
   "execution_count": 9,
   "metadata": {},
   "outputs": [
    {
     "name": "stdout",
     "output_type": "stream",
     "text": [
      "Transporttijd: 0.71 +/- 0.22\n"
     ]
    }
   ],
   "source": [
    "t2_zenuw = t2_enkel - t2_schouder\n",
    "dt2_zenuw = np.sqrt(dt2_enkel ** 2 + dt2_schouder ** 2)\n",
    "\n",
    "print(f\"Transporttijd: {t2_zenuw:.2f} +/- {dt2_zenuw:.2f}\")"
   ]
  },
  {
   "cell_type": "code",
   "execution_count": 10,
   "metadata": {},
   "outputs": [
    {
     "name": "stdout",
     "output_type": "stream",
     "text": [
      "Snelheid: 21.16 +/- 6.61\n"
     ]
    }
   ],
   "source": [
    "v2_zenuw = (N2 - 1) * 1.50 / t2_zenuw\n",
    "dv2_zenuw = v2_zenuw * (dt2_zenuw / t2_zenuw)\n",
    "\n",
    "print(f\"Snelheid: {v2_zenuw:.2f} +/- {dv2_zenuw:.2f}\")"
   ]
  },
  {
   "cell_type": "markdown",
   "metadata": {},
   "source": [
    "## Vergelijking resultaten van twee verschillende onderzoeksgroepen"
   ]
  },
  {
   "cell_type": "code",
   "execution_count": 11,
   "metadata": {},
   "outputs": [
    {
     "name": "stdout",
     "output_type": "stream",
     "text": [
      "Snelheid (groep 1): 20.15 +/- 3.54\n",
      "Snelheid (groep 2): 21.16 +/- 6.61\n"
     ]
    }
   ],
   "source": [
    "print(f\"Snelheid (groep 1): {v1_zenuw:.2f} +/- {dv1_zenuw:.2f}\")\n",
    "print(f\"Snelheid (groep 2): {v2_zenuw:.2f} +/- {dv2_zenuw:.2f}\")"
   ]
  }
 ],
 "metadata": {
  "kernelspec": {
   "display_name": "Python 3",
   "language": "python",
   "name": "python3"
  },
  "language_info": {
   "codemirror_mode": {
    "name": "ipython",
    "version": 3
   },
   "file_extension": ".py",
   "mimetype": "text/x-python",
   "name": "python",
   "nbconvert_exporter": "python",
   "pygments_lexer": "ipython3",
   "version": "3.6.10"
  }
 },
 "nbformat": 4,
 "nbformat_minor": 4
}
