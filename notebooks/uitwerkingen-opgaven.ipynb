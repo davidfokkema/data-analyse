{
 "cells": [
  {
   "cell_type": "markdown",
   "metadata": {},
   "source": [
    "# Uitwerkingen opgaven data-analyse"
   ]
  },
  {
   "cell_type": "markdown",
   "metadata": {},
   "source": [
    "## Opgave 1.3\n",
    "\n",
    "We maken hier gebruik van de error function, gedefinieerd in `scipy.special.erf`. Er is ook een complementaire error function, gedefinieerd als $\\mathrm{erfc} = 1 - \\mathrm{erf}$. Vergeet niet de factor $\\sqrt{2}$, aangezien $\\mathrm{erf}$ een vereenvoudigde functie is, en het argument nog omgerekend moet worden.\n",
    "\n",
    "De waarschijnlijkheid dat een waarde méér dan $1.23\\sigma$ van het gemiddelde afligt is gegeven door:"
   ]
  },
  {
   "cell_type": "code",
   "execution_count": 1,
   "metadata": {},
   "outputs": [],
   "source": [
    "from math import sqrt\n",
    "from scipy.special import erf, erfc"
   ]
  },
  {
   "cell_type": "code",
   "execution_count": 2,
   "metadata": {},
   "outputs": [
    {
     "data": {
      "text/plain": [
       "0.21869710485138394"
      ]
     },
     "execution_count": 2,
     "metadata": {},
     "output_type": "execute_result"
    }
   ],
   "source": [
    "erfc(1.23 / sqrt(2))"
   ]
  },
  {
   "cell_type": "markdown",
   "metadata": {},
   "source": [
    "De waarschijnlijkheid dat een waarde méér dan $2.43\\sigma$ *boven* het gemiddelde ligt is gegeven door:"
   ]
  },
  {
   "cell_type": "code",
   "execution_count": 3,
   "metadata": {},
   "outputs": [
    {
     "data": {
      "text/plain": [
       "0.0075494114163092065"
      ]
     },
     "execution_count": 3,
     "metadata": {},
     "output_type": "execute_result"
    }
   ],
   "source": [
    "erfc(2.43 / sqrt(2)) / 2"
   ]
  },
  {
   "cell_type": "markdown",
   "metadata": {},
   "source": [
    "De waarschijnlijkheid dat een waarde meer dan $0.5\\sigma$, maar minder dan $1.5\\sigma$ van het gemiddelde verwijderd is, wordt gegeven door:"
   ]
  },
  {
   "cell_type": "code",
   "execution_count": 4,
   "metadata": {},
   "outputs": [
    {
     "data": {
      "text/plain": [
       "0.4834606749142577"
      ]
     },
     "execution_count": 4,
     "metadata": {},
     "output_type": "execute_result"
    }
   ],
   "source": [
    "erf(1.5 / sqrt(2)) - erf(.5 / sqrt(2))"
   ]
  },
  {
   "cell_type": "markdown",
   "metadata": {},
   "source": [
    "We willen weten binnen hoeveel standaarddeviaties van het gemiddelde de waarschijnlijkheid dat een waarde gevonden wordt gelijk is aan $50\\,\\%$. Gebruik hiervoor de inverse error function `erfinv`. Vergeet de factor $\\sqrt{2}$ niet!"
   ]
  },
  {
   "cell_type": "code",
   "execution_count": 5,
   "metadata": {},
   "outputs": [],
   "source": [
    "from scipy.special import erfinv"
   ]
  },
  {
   "cell_type": "code",
   "execution_count": 6,
   "metadata": {},
   "outputs": [
    {
     "data": {
      "text/plain": [
       "0.6744897501960817"
      ]
     },
     "execution_count": 6,
     "metadata": {},
     "output_type": "execute_result"
    }
   ],
   "source": [
    "erfinv(.5) * sqrt(2)"
   ]
  },
  {
   "cell_type": "markdown",
   "metadata": {},
   "source": [
    "## Opgave 1.4\n",
    "\n",
    "We maken gebruik van pandas, een python data-analyse pakket. We importeren de datafile:"
   ]
  },
  {
   "cell_type": "code",
   "execution_count": 7,
   "metadata": {},
   "outputs": [],
   "source": [
    "import pandas as pd"
   ]
  },
  {
   "cell_type": "code",
   "execution_count": 8,
   "metadata": {},
   "outputs": [],
   "source": [
    "data = pd.read_csv('10-metingen.txt')"
   ]
  },
  {
   "cell_type": "code",
   "execution_count": 9,
   "metadata": {},
   "outputs": [
    {
     "name": "stdout",
     "output_type": "stream",
     "text": [
      "    x\n",
      "0  73\n",
      "1  79\n",
      "2  69\n",
      "3  74\n",
      "4  68\n",
      "5  72\n",
      "6  72\n",
      "7  75\n",
      "8  60\n",
      "9  76\n"
     ]
    }
   ],
   "source": [
    "print(data)"
   ]
  },
  {
   "cell_type": "markdown",
   "metadata": {},
   "source": [
    "...en bekijken wat statistieken:"
   ]
  },
  {
   "cell_type": "code",
   "execution_count": 10,
   "metadata": {},
   "outputs": [
    {
     "data": {
      "text/html": [
       "<div>\n",
       "<style scoped>\n",
       "    .dataframe tbody tr th:only-of-type {\n",
       "        vertical-align: middle;\n",
       "    }\n",
       "\n",
       "    .dataframe tbody tr th {\n",
       "        vertical-align: top;\n",
       "    }\n",
       "\n",
       "    .dataframe thead th {\n",
       "        text-align: right;\n",
       "    }\n",
       "</style>\n",
       "<table border=\"1\" class=\"dataframe\">\n",
       "  <thead>\n",
       "    <tr style=\"text-align: right;\">\n",
       "      <th></th>\n",
       "      <th>x</th>\n",
       "    </tr>\n",
       "  </thead>\n",
       "  <tbody>\n",
       "    <tr>\n",
       "      <th>count</th>\n",
       "      <td>10.000000</td>\n",
       "    </tr>\n",
       "    <tr>\n",
       "      <th>mean</th>\n",
       "      <td>71.800000</td>\n",
       "    </tr>\n",
       "    <tr>\n",
       "      <th>std</th>\n",
       "      <td>5.245104</td>\n",
       "    </tr>\n",
       "    <tr>\n",
       "      <th>min</th>\n",
       "      <td>60.000000</td>\n",
       "    </tr>\n",
       "    <tr>\n",
       "      <th>25%</th>\n",
       "      <td>69.750000</td>\n",
       "    </tr>\n",
       "    <tr>\n",
       "      <th>50%</th>\n",
       "      <td>72.500000</td>\n",
       "    </tr>\n",
       "    <tr>\n",
       "      <th>75%</th>\n",
       "      <td>74.750000</td>\n",
       "    </tr>\n",
       "    <tr>\n",
       "      <th>max</th>\n",
       "      <td>79.000000</td>\n",
       "    </tr>\n",
       "  </tbody>\n",
       "</table>\n",
       "</div>"
      ],
      "text/plain": [
       "               x\n",
       "count  10.000000\n",
       "mean   71.800000\n",
       "std     5.245104\n",
       "min    60.000000\n",
       "25%    69.750000\n",
       "50%    72.500000\n",
       "75%    74.750000\n",
       "max    79.000000"
      ]
     },
     "execution_count": 10,
     "metadata": {},
     "output_type": "execute_result"
    }
   ],
   "source": [
    "data.describe()"
   ]
  },
  {
   "cell_type": "markdown",
   "metadata": {},
   "source": [
    "De standaarddeviatie van het gemiddelde is:"
   ]
  },
  {
   "cell_type": "code",
   "execution_count": 11,
   "metadata": {},
   "outputs": [
    {
     "data": {
      "text/plain": [
       "1.6586473739499634"
      ]
     },
     "execution_count": 11,
     "metadata": {},
     "output_type": "execute_result"
    }
   ],
   "source": [
    "x = data.x\n",
    "x.std() / sqrt(x.count())"
   ]
  },
  {
   "cell_type": "markdown",
   "metadata": {},
   "source": [
    "Het resultaat van ons experiment is dus $x = 71.8 \\pm 1.7$ of $x = 71.8(17)$.\n",
    "\n",
    "Voor De kans op een volgende meting met $x\\geq 75$ berekenen we eerst hoeveel standaarddeviaties de meting verwijderd is van het gemiddelde. Vervolgens berekenen we de kans op een meting hóger dan dat aantal standaarddeviaties:"
   ]
  },
  {
   "cell_type": "code",
   "execution_count": 12,
   "metadata": {},
   "outputs": [
    {
     "data": {
      "text/plain": [
       "0.27090016180692866"
      ]
     },
     "execution_count": 12,
     "metadata": {},
     "output_type": "execute_result"
    }
   ],
   "source": [
    "dist = 75 - x.mean()\n",
    "dist_sigma = dist / x.std()\n",
    "erfc(dist_sigma / sqrt(2)) / 2"
   ]
  },
  {
   "cell_type": "markdown",
   "metadata": {},
   "source": [
    "## Opgave 1.5\n",
    "\n",
    "We gaan plotten, en we moeten `matplotlib` vertellen dat we de plots in de notebook willen zien:"
   ]
  },
  {
   "cell_type": "code",
   "execution_count": 13,
   "metadata": {},
   "outputs": [],
   "source": [
    "%matplotlib inline"
   ]
  },
  {
   "cell_type": "markdown",
   "metadata": {},
   "source": [
    "We openen de datafile en maken een histogram van $y$:"
   ]
  },
  {
   "cell_type": "code",
   "execution_count": 14,
   "metadata": {},
   "outputs": [
    {
     "data": {
      "text/html": [
       "<div>\n",
       "<style scoped>\n",
       "    .dataframe tbody tr th:only-of-type {\n",
       "        vertical-align: middle;\n",
       "    }\n",
       "\n",
       "    .dataframe tbody tr th {\n",
       "        vertical-align: top;\n",
       "    }\n",
       "\n",
       "    .dataframe thead th {\n",
       "        text-align: right;\n",
       "    }\n",
       "</style>\n",
       "<table border=\"1\" class=\"dataframe\">\n",
       "  <thead>\n",
       "    <tr style=\"text-align: right;\">\n",
       "      <th></th>\n",
       "      <th>y</th>\n",
       "    </tr>\n",
       "  </thead>\n",
       "  <tbody>\n",
       "    <tr>\n",
       "      <th>count</th>\n",
       "      <td>80.000000</td>\n",
       "    </tr>\n",
       "    <tr>\n",
       "      <th>mean</th>\n",
       "      <td>61.587500</td>\n",
       "    </tr>\n",
       "    <tr>\n",
       "      <th>std</th>\n",
       "      <td>16.779051</td>\n",
       "    </tr>\n",
       "    <tr>\n",
       "      <th>min</th>\n",
       "      <td>22.000000</td>\n",
       "    </tr>\n",
       "    <tr>\n",
       "      <th>25%</th>\n",
       "      <td>49.000000</td>\n",
       "    </tr>\n",
       "    <tr>\n",
       "      <th>50%</th>\n",
       "      <td>63.500000</td>\n",
       "    </tr>\n",
       "    <tr>\n",
       "      <th>75%</th>\n",
       "      <td>75.000000</td>\n",
       "    </tr>\n",
       "    <tr>\n",
       "      <th>max</th>\n",
       "      <td>91.000000</td>\n",
       "    </tr>\n",
       "  </tbody>\n",
       "</table>\n",
       "</div>"
      ],
      "text/plain": [
       "               y\n",
       "count  80.000000\n",
       "mean   61.587500\n",
       "std    16.779051\n",
       "min    22.000000\n",
       "25%    49.000000\n",
       "50%    63.500000\n",
       "75%    75.000000\n",
       "max    91.000000"
      ]
     },
     "execution_count": 14,
     "metadata": {},
     "output_type": "execute_result"
    }
   ],
   "source": [
    "data = pd.read_csv('80-metingen.txt')\n",
    "data.describe()"
   ]
  },
  {
   "cell_type": "code",
   "execution_count": 15,
   "metadata": {},
   "outputs": [
    {
     "data": {
      "text/plain": [
       "<matplotlib.axes._subplots.AxesSubplot at 0x81dec7e10>"
      ]
     },
     "execution_count": 15,
     "metadata": {},
     "output_type": "execute_result"
    },
    {
     "data": {
      "image/png": "[encoded data removed]",
      "text/plain": [
       "<Figure size 432x288 with 1 Axes>"
      ]
     },
     "metadata": {
      "needs_background": "light"
     },
     "output_type": "display_data"
    }
   ],
   "source": [
    "data.y.hist()"
   ]
  },
  {
   "cell_type": "markdown",
   "metadata": {},
   "source": [
    "Het is best interessant dat dit histogram er heel anders uitziet dan het antwoord uit de uitwerkingen. Dat histogram is gemaakt met Origin, en dat lijkt standaard iets beter op zoek te gaan naar aardige bingrenzen. Niet simpelweg het minimum en het maximum nemen en opdelen, maar afronden op mooie, ronde getallen. Handmatig kan dat in Python. Voor stapgroottes kun je het beste `arange` gebruiken. Let er daarbij wel op dat `arange` niet inclusief is. Het maximum wordt niet meegenomen. Als je dat ietsje groter maakt dan de bingrens, dus 101 i.p.v. 100, dan komt het goed:"
   ]
  },
  {
   "cell_type": "code",
   "execution_count": 16,
   "metadata": {},
   "outputs": [
    {
     "data": {
      "text/plain": [
       "<matplotlib.axes._subplots.AxesSubplot at 0x81e87e668>"
      ]
     },
     "execution_count": 16,
     "metadata": {},
     "output_type": "execute_result"
    },
    {
     "data": {
      "image/png": "[encoded data removed]",
      "text/plain": [
       "<Figure size 432x288 with 1 Axes>"
      ]
     },
     "metadata": {
      "needs_background": "light"
     },
     "output_type": "display_data"
    }
   ],
   "source": [
    "import numpy as np\n",
    "bins = np.arange(20, 101, 10)\n",
    "data.y.hist(bins=bins)"
   ]
  },
  {
   "cell_type": "markdown",
   "metadata": {},
   "source": [
    "### Methode A: fitten aan volledige dataset\n",
    "\n",
    "Het fitten van een bekende distributie (zie `scipy.stats`) aan de data gaat vrij eenvoudig. Daar heb je niet eens een histogram voor nodig:"
   ]
  },
  {
   "cell_type": "code",
   "execution_count": 17,
   "metadata": {},
   "outputs": [
    {
     "data": {
      "text/plain": [
       "(61.5875, 16.673852096921095)"
      ]
     },
     "execution_count": 17,
     "metadata": {},
     "output_type": "execute_result"
    }
   ],
   "source": [
    "from scipy import stats\n",
    "mean, sigma = stats.norm.fit(data.y)\n",
    "mean, sigma"
   ]
  },
  {
   "cell_type": "markdown",
   "metadata": {},
   "source": [
    "De meest waarschijnlijke distributie heeft een gemiddelde van 61.6 en een standaarddeviatie van 16.7. Je krijgt alleen de distributie, genormeerd, dus als je dat samen met het histogram wilt plotten moet je eerst nog schalen met een factor $N^2 / N_\\mathrm{bins}$:"
   ]
  },
  {
   "cell_type": "code",
   "execution_count": 18,
   "metadata": {},
   "outputs": [
    {
     "data": {
      "text/plain": [
       "[<matplotlib.lines.Line2D at 0x1176c01d0>]"
      ]
     },
     "execution_count": 18,
     "metadata": {},
     "output_type": "execute_result"
    },
    {
     "data": {
      "image/png": "[encoded data removed]",
      "text/plain": [
       "<Figure size 432x288 with 1 Axes>"
      ]
     },
     "metadata": {
      "needs_background": "light"
     },
     "output_type": "display_data"
    }
   ],
   "source": [
    "import matplotlib.pyplot as plt\n",
    "\n",
    "data.y.hist(bins=bins)\n",
    "\n",
    "scale = data.y.count() ** 2 / len(bins - 1)\n",
    "x = np.linspace(20, 100, 50)\n",
    "plt.plot(x, scale * stats.norm.pdf(x, mean, sigma))"
   ]
  },
  {
   "cell_type": "markdown",
   "metadata": {},
   "source": [
    "Het is dan wellicht interessanter om het histogram weer te geven als waardes met foutenvlaggen. Eerst wil je de waardes van het histogram, zonder te plotten. Dan moet je de middens van de bins berekenen, en dat plotten met de fouten $\\sqrt{N}$:"
   ]
  },
  {
   "cell_type": "code",
   "execution_count": 19,
   "metadata": {},
   "outputs": [
    {
     "data": {
      "text/plain": [
       "[<matplotlib.lines.Line2D at 0x1a1f72a550>]"
      ]
     },
     "execution_count": 19,
     "metadata": {},
     "output_type": "execute_result"
    },
    {
     "data": {
      "image/png": "[encoded data removed]",
      "text/plain": [
       "<Figure size 432x288 with 1 Axes>"
      ]
     },
     "metadata": {
      "needs_background": "light"
     },
     "output_type": "display_data"
    }
   ],
   "source": [
    "n, _ = np.histogram(data.y, bins=bins)\n",
    "xbins = (bins[:-1] + bins[1:]) / 2\n",
    "plt.errorbar(xbins, n, yerr=np.sqrt(n), fmt='o')\n",
    "\n",
    "plt.plot(x, scale * stats.norm.pdf(x, mean, sigma))"
   ]
  },
  {
   "cell_type": "markdown",
   "metadata": {},
   "source": [
    "Merk op dat de waardes van de fit iets verschillen van die van Origin, helaas. De volledige code om het laatste plaatje te maken wordt dan:"
   ]
  },
  {
   "cell_type": "code",
   "execution_count": 20,
   "metadata": {},
   "outputs": [
    {
     "data": {
      "text/plain": [
       "[<matplotlib.lines.Line2D at 0x1a1f7b6630>]"
      ]
     },
     "execution_count": 20,
     "metadata": {},
     "output_type": "execute_result"
    },
    {
     "data": {
      "image/png": "[encoded data removed]",
      "text/plain": [
       "<Figure size 432x288 with 1 Axes>"
      ]
     },
     "metadata": {
      "needs_background": "light"
     },
     "output_type": "display_data"
    }
   ],
   "source": [
    "# imports\n",
    "import pandas as pd\n",
    "import numpy as np\n",
    "from scipy import stats\n",
    "import matplotlib.pyplot as plt\n",
    "\n",
    "# read datafile\n",
    "data = pd.read_csv('80-metingen.txt')\n",
    "\n",
    "# calculate histogram\n",
    "bins = np.arange(20, 101, 10)\n",
    "n, _ = np.histogram(data.y, bins=bins)\n",
    "\n",
    "# plot histogram with bin centers and error bars\n",
    "xbins = (bins[:-1] + bins[1:]) / 2\n",
    "plt.errorbar(xbins, n, yerr=np.sqrt(n), fmt='o')\n",
    "\n",
    "# fit normal distribution to data\n",
    "mean, sigma = stats.norm.fit(data.y)\n",
    "\n",
    "# plot the scaled distribution\n",
    "scale = data.y.count() ** 2 / len(bins - 1)\n",
    "x = np.linspace(20, 100, 50)\n",
    "plt.plot(x, scale * stats.norm.pdf(x, mean, sigma))"
   ]
  },
  {
   "cell_type": "markdown",
   "metadata": {},
   "source": [
    "We vertrouwen de data wel. De fit gaat door of vlak langs alle foutenvlaggen.\n",
    "\n",
    "Dit is wel meer werk dan in Origin, vooral als je nog niet zo handig bent. Zeker ook meer om te onthouden. **Merk op dat de fit gedaan is op de volledige set waarnemingen, dus niet op het histogram. Als er gefit moet worden aan een histogram, of als je een zelf-gedefinieerde functie wilt fitten, dan moet je overstappen naar least-squares fitting.**\n",
    "\n",
    "### Methode B: fitten aan een histogram\n",
    "\n",
    "Als je least-squares wilt fitten, gebruik dan de `lmfit` bibliotheek. Die is handiger dan `scipy` gebruiken."
   ]
  },
  {
   "cell_type": "code",
   "execution_count": 21,
   "metadata": {},
   "outputs": [],
   "source": [
    "from lmfit import models"
   ]
  },
  {
   "cell_type": "markdown",
   "metadata": {},
   "source": [
    "Je kunt veel verschillende modellen gebruiken, b.v. een `GaussianModel`. De werkwijze is als volgt: éérst initialiseer je het model en vervolgens voer je de fit uit. Het is handig om voor de fit een *first guess* op te geven, een afschatting van de parameters. Je kunt dit handmatig doen, maar wij gebruiken hier de method `guess` van het model. Dit geeft een afschatting van de parameters..."
   ]
  },
  {
   "cell_type": "code",
   "execution_count": 22,
   "metadata": {},
   "outputs": [
    {
     "name": "stdout",
     "output_type": "stream",
     "text": [
      "Name          Value      Min      Max   Stderr     Vary     Expr Brute_Step\n",
      "amplitude       720     -inf      inf     None     True     None     None\n",
      "center           60     -inf      inf     None     True     None     None\n",
      "fwhm          35.32     -inf      inf     None    False 2.3548200*sigma     None\n",
      "height        19.15     -inf      inf     None    False 0.3989423*amplitude/max(2.220446049250313e-16, sigma)     None\n",
      "sigma            15        0      inf     None     True     None     None\n"
     ]
    }
   ],
   "source": [
    "gauss = models.GaussianModel()\n",
    "first_guess = gauss.guess(n, x=xbins)\n",
    "first_guess.pretty_print()"
   ]
  },
  {
   "cell_type": "markdown",
   "metadata": {},
   "source": [
    "...die je vervolgens in de fit kunt stoppen. Denk hierbij aan de fout op de datapunten. In de fit kun je een *gewicht* toekennen, dat omgekeerd evenredig is met de fout."
   ]
  },
  {
   "cell_type": "code",
   "execution_count": 23,
   "metadata": {},
   "outputs": [
    {
     "name": "stdout",
     "output_type": "stream",
     "text": [
      "[[Model]]\n",
      "    Model(gaussian)\n",
      "[[Fit Statistics]]\n",
      "    # fitting method   = leastsq\n",
      "    # function evals   = 13\n",
      "    # data points      = 8\n",
      "    # variables        = 3\n",
      "    chi-square         = 2.02223322\n",
      "    reduced chi-square = 0.40444664\n",
      "    Akaike info crit   = -5.00191267\n",
      "    Bayesian info crit = -4.76358805\n",
      "[[Variables]]\n",
      "    amplitude:  801.690915 +/- 58.4759654 (7.29%) (init = 720)\n",
      "    center:     61.8208268 +/- 1.43858876 (2.33%) (init = 60)\n",
      "    sigma:      18.2635376 +/- 1.29580916 (7.10%) (init = 15)\n",
      "    fwhm:       43.0073437 +/- 3.05139733 (7.10%) == '2.3548200*sigma'\n",
      "    height:     17.5118547 +/- 1.63561642 (9.34%) == '0.3989423*amplitude/max(2.220446049250313e-16, sigma)'\n",
      "[[Correlations]] (unreported correlations are < 0.100)\n",
      "    C(amplitude, sigma) =  0.158\n"
     ]
    }
   ],
   "source": [
    "fit = gauss.fit(n, x=xbins, weights=1 / np.sqrt(n), params=first_guess)\n",
    "print(fit.fit_report())"
   ]
  },
  {
   "cell_type": "code",
   "execution_count": 24,
   "metadata": {},
   "outputs": [
    {
     "data": {
      "text/plain": [
       "(<Figure size 432x432 with 2 Axes>, GridSpec(2, 1, height_ratios=[1, 4]))"
      ]
     },
     "execution_count": 24,
     "metadata": {},
     "output_type": "execute_result"
    },
    {
     "data": {
      "image/png": "[encoded data removed]",
      "text/plain": [
       "<Figure size 432x432 with 2 Axes>"
      ]
     },
     "metadata": {
      "needs_background": "light"
     },
     "output_type": "display_data"
    }
   ],
   "source": [
    "fit.plot(numpoints=50)"
   ]
  },
  {
   "cell_type": "markdown",
   "metadata": {},
   "source": [
    "### Vergelijking van de methodes A en B\n",
    "\n",
    "Je kunt je nu afvragen welke methode beter is. Bovenstaande fit ziet er prachtig uit. Toch is er nog een subtiliteit: het histogram hangt nogal af van de keuze voor de bins. In bovenstaand voorbeeld hadden we de bins zelf gekozen. Een andere keuze voor de bins, levert een andere fit op:"
   ]
  },
  {
   "cell_type": "code",
   "execution_count": 25,
   "metadata": {},
   "outputs": [
    {
     "name": "stdout",
     "output_type": "stream",
     "text": [
      "[[Model]]\n",
      "    Model(gaussian)\n",
      "[[Fit Statistics]]\n",
      "    # fitting method   = leastsq\n",
      "    # function evals   = 17\n",
      "    # data points      = 10\n",
      "    # variables        = 3\n",
      "    chi-square         = 3.57114692\n",
      "    reduced chi-square = 0.51016385\n",
      "    Akaike info crit   = -4.29698282\n",
      "    Bayesian info crit = -3.38922754\n",
      "[[Variables]]\n",
      "    amplitude:  614.217856 +/- 64.7832820 (10.55%) (init = 683.1)\n",
      "    center:     66.6602261 +/- 2.83603715 (4.25%) (init = 62.25)\n",
      "    sigma:      21.1889216 +/- 2.66697273 (12.59%) (init = 20.7)\n",
      "    fwhm:       49.8960965 +/- 6.28024073 (12.59%) == '2.3548200*sigma'\n",
      "    height:     11.5644150 +/- 1.21180051 (10.48%) == '0.3989423*amplitude/max(2.220446049250313e-16, sigma)'\n",
      "[[Correlations]] (unreported correlations are < 0.100)\n",
      "    C(amplitude, sigma)  =  0.602\n",
      "    C(center, sigma)     =  0.598\n",
      "    C(amplitude, center) =  0.515\n"
     ]
    },
    {
     "data": {
      "text/plain": [
       "(<Figure size 432x432 with 2 Axes>, GridSpec(2, 1, height_ratios=[1, 4]))"
      ]
     },
     "execution_count": 25,
     "metadata": {},
     "output_type": "execute_result"
    },
    {
     "data": {
      "image/png": "[encoded data removed]",
      "text/plain": [
       "<Figure size 432x432 with 2 Axes>"
      ]
     },
     "metadata": {
      "needs_background": "light"
     },
     "output_type": "display_data"
    }
   ],
   "source": [
    "n, bins = np.histogram(data.y)\n",
    "xbins = (bins[:-1] + bins[1:]) / 2\n",
    "\n",
    "first_guess = gauss.guess(n, x=xbins)\n",
    "fit = gauss.fit(n, x=xbins, weights=1 / np.sqrt(n), params=first_guess)\n",
    "print(fit.fit_report())\n",
    "fit.plot(numpoints=50)"
   ]
  },
  {
   "cell_type": "markdown",
   "metadata": {},
   "source": [
    "Deze fit heeft een iets ander centrum, een andere breedte, en een fors lagere amplitude."
   ]
  },
  {
   "cell_type": "markdown",
   "metadata": {},
   "source": [
    "## Opgave 1.6\n",
    "\n",
    "We importeren de dataset en kijken even of dat goed ging."
   ]
  },
  {
   "cell_type": "code",
   "execution_count": 26,
   "metadata": {},
   "outputs": [],
   "source": [
    "data = pd.read_csv('verval.txt')"
   ]
  },
  {
   "cell_type": "code",
   "execution_count": 27,
   "metadata": {},
   "outputs": [
    {
     "data": {
      "text/html": [
       "<div>\n",
       "<style scoped>\n",
       "    .dataframe tbody tr th:only-of-type {\n",
       "        vertical-align: middle;\n",
       "    }\n",
       "\n",
       "    .dataframe tbody tr th {\n",
       "        vertical-align: top;\n",
       "    }\n",
       "\n",
       "    .dataframe thead th {\n",
       "        text-align: right;\n",
       "    }\n",
       "</style>\n",
       "<table border=\"1\" class=\"dataframe\">\n",
       "  <thead>\n",
       "    <tr style=\"text-align: right;\">\n",
       "      <th></th>\n",
       "      <th>tijd</th>\n",
       "      <th>counts</th>\n",
       "    </tr>\n",
       "  </thead>\n",
       "  <tbody>\n",
       "    <tr>\n",
       "      <th>count</th>\n",
       "      <td>9.000000</td>\n",
       "      <td>9.000000</td>\n",
       "    </tr>\n",
       "    <tr>\n",
       "      <th>mean</th>\n",
       "      <td>4.000000</td>\n",
       "      <td>325.444444</td>\n",
       "    </tr>\n",
       "    <tr>\n",
       "      <th>std</th>\n",
       "      <td>2.738613</td>\n",
       "      <td>414.731573</td>\n",
       "    </tr>\n",
       "    <tr>\n",
       "      <th>min</th>\n",
       "      <td>0.000000</td>\n",
       "      <td>29.000000</td>\n",
       "    </tr>\n",
       "    <tr>\n",
       "      <th>25%</th>\n",
       "      <td>2.000000</td>\n",
       "      <td>41.000000</td>\n",
       "    </tr>\n",
       "    <tr>\n",
       "      <th>50%</th>\n",
       "      <td>4.000000</td>\n",
       "      <td>132.000000</td>\n",
       "    </tr>\n",
       "    <tr>\n",
       "      <th>75%</th>\n",
       "      <td>6.000000</td>\n",
       "      <td>410.000000</td>\n",
       "    </tr>\n",
       "    <tr>\n",
       "      <th>max</th>\n",
       "      <td>8.000000</td>\n",
       "      <td>1265.000000</td>\n",
       "    </tr>\n",
       "  </tbody>\n",
       "</table>\n",
       "</div>"
      ],
      "text/plain": [
       "           tijd       counts\n",
       "count  9.000000     9.000000\n",
       "mean   4.000000   325.444444\n",
       "std    2.738613   414.731573\n",
       "min    0.000000    29.000000\n",
       "25%    2.000000    41.000000\n",
       "50%    4.000000   132.000000\n",
       "75%    6.000000   410.000000\n",
       "max    8.000000  1265.000000"
      ]
     },
     "execution_count": 27,
     "metadata": {},
     "output_type": "execute_result"
    }
   ],
   "source": [
    "data.describe()"
   ]
  },
  {
   "cell_type": "markdown",
   "metadata": {},
   "source": [
    "We zien een kolom **tijd** en een kolom **counts**, met negen meetpunten. De fouten op de meetpunten stonden niet in het bestand, maar wel in de opgave. De fout op het aantal counts $N$ wordt gegeven door $\\sqrt N$. We maken een nieuwe kolom `yerr` als volgt:"
   ]
  },
  {
   "cell_type": "code",
   "execution_count": 28,
   "metadata": {},
   "outputs": [],
   "source": [
    "data['yerr'] = np.sqrt(data.counts)"
   ]
  },
  {
   "cell_type": "markdown",
   "metadata": {},
   "source": [
    "Merk op dat we de data nu kunnen bekijken door zowel `data['yerr']` als `data.yerr` te typen, maar dat we nieuwe kolommen alléén kunnen maken met de `data['yerr']`-notatie. We inspecteren even de eerste vijf regels om te zien of alles goed ging:"
   ]
  },
  {
   "cell_type": "code",
   "execution_count": 29,
   "metadata": {},
   "outputs": [
    {
     "data": {
      "text/html": [
       "<div>\n",
       "<style scoped>\n",
       "    .dataframe tbody tr th:only-of-type {\n",
       "        vertical-align: middle;\n",
       "    }\n",
       "\n",
       "    .dataframe tbody tr th {\n",
       "        vertical-align: top;\n",
       "    }\n",
       "\n",
       "    .dataframe thead th {\n",
       "        text-align: right;\n",
       "    }\n",
       "</style>\n",
       "<table border=\"1\" class=\"dataframe\">\n",
       "  <thead>\n",
       "    <tr style=\"text-align: right;\">\n",
       "      <th></th>\n",
       "      <th>tijd</th>\n",
       "      <th>counts</th>\n",
       "      <th>yerr</th>\n",
       "    </tr>\n",
       "  </thead>\n",
       "  <tbody>\n",
       "    <tr>\n",
       "      <th>0</th>\n",
       "      <td>0</td>\n",
       "      <td>1265</td>\n",
       "      <td>35.566838</td>\n",
       "    </tr>\n",
       "    <tr>\n",
       "      <th>1</th>\n",
       "      <td>1</td>\n",
       "      <td>688</td>\n",
       "      <td>26.229754</td>\n",
       "    </tr>\n",
       "    <tr>\n",
       "      <th>2</th>\n",
       "      <td>2</td>\n",
       "      <td>410</td>\n",
       "      <td>20.248457</td>\n",
       "    </tr>\n",
       "    <tr>\n",
       "      <th>3</th>\n",
       "      <td>3</td>\n",
       "      <td>241</td>\n",
       "      <td>15.524175</td>\n",
       "    </tr>\n",
       "    <tr>\n",
       "      <th>4</th>\n",
       "      <td>4</td>\n",
       "      <td>132</td>\n",
       "      <td>11.489125</td>\n",
       "    </tr>\n",
       "  </tbody>\n",
       "</table>\n",
       "</div>"
      ],
      "text/plain": [
       "   tijd  counts       yerr\n",
       "0     0    1265  35.566838\n",
       "1     1     688  26.229754\n",
       "2     2     410  20.248457\n",
       "3     3     241  15.524175\n",
       "4     4     132  11.489125"
      ]
     },
     "execution_count": 29,
     "metadata": {},
     "output_type": "execute_result"
    }
   ],
   "source": [
    "data.head()"
   ]
  },
  {
   "cell_type": "markdown",
   "metadata": {},
   "source": [
    "We maken een plot van counts tegen tijd, met de juiste foutvlaggen:"
   ]
  },
  {
   "cell_type": "code",
   "execution_count": 30,
   "metadata": {},
   "outputs": [
    {
     "data": {
      "text/plain": [
       "<matplotlib.axes._subplots.AxesSubplot at 0x1a2016dc18>"
      ]
     },
     "execution_count": 30,
     "metadata": {},
     "output_type": "execute_result"
    },
    {
     "data": {
      "image/png": "[encoded data removed]",
      "text/plain": [
       "<Figure size 432x288 with 1 Axes>"
      ]
     },
     "metadata": {
      "needs_background": "light"
     },
     "output_type": "display_data"
    }
   ],
   "source": [
    "data.plot.scatter('tijd', 'counts', yerr='yerr')"
   ]
  },
  {
   "cell_type": "markdown",
   "metadata": {},
   "source": [
    "De vraag is nu hoe we het beste om kunnen gaan met de achtergrond. Eenvoudig negeren, fitten aan een exponentiële functie plus een constante achtergrond of de achtergrond éérst aftrekken van de data? We bekijken hieronder de drie methodes.\n",
    "\n",
    "### Methode A: negeren van de achtergrond"
   ]
  },
  {
   "cell_type": "code",
   "execution_count": 31,
   "metadata": {},
   "outputs": [
    {
     "name": "stdout",
     "output_type": "stream",
     "text": [
      "[[Model]]\n",
      "    Model(exponential)\n",
      "[[Fit Statistics]]\n",
      "    # fitting method   = leastsq\n",
      "    # function evals   = 48\n",
      "    # data points      = 9\n",
      "    # variables        = 2\n",
      "    chi-square         = 11.6138776\n",
      "    reduced chi-square = 1.65912536\n",
      "    Akaike info crit   = 6.29478532\n",
      "    Bayesian info crit = 6.68923447\n",
      "[[Variables]]\n",
      "    amplitude:  1232.13319 +/- 38.0342535 (3.09%) (init = 1)\n",
      "    decay:      1.84065110 +/- 0.05040337 (2.74%) (init = 1)\n",
      "[[Correlations]] (unreported correlations are < 0.100)\n",
      "    C(amplitude, decay) = -0.635\n"
     ]
    },
    {
     "data": {
      "text/plain": [
       "(<Figure size 432x432 with 2 Axes>, GridSpec(2, 1, height_ratios=[1, 4]))"
      ]
     },
     "execution_count": 31,
     "metadata": {},
     "output_type": "execute_result"
    },
    {
     "data": {
      "image/png": "[encoded data removed]",
      "text/plain": [
       "<Figure size 432x432 with 2 Axes>"
      ]
     },
     "metadata": {
      "needs_background": "light"
     },
     "output_type": "display_data"
    }
   ],
   "source": [
    "model = models.ExponentialModel()\n",
    "fit = model.fit(data.counts, x=data.tijd, weights=1 / data.yerr)\n",
    "print(fit.fit_report())\n",
    "fit.plot(numpoints=50)"
   ]
  },
  {
   "cell_type": "markdown",
   "metadata": {},
   "source": [
    "Op het oog ziet dit er prima uit, maar $\\chi_\\mathrm{red}^2 = 1.659$, vrij groot. Aan de residuals is nog niet heel veel te zien. Je moet langer doormeten om duidelijk te kunnen zien dat de exponentiële functie naar nul gaat, terwijl de metingen dat niet doen."
   ]
  },
  {
   "cell_type": "markdown",
   "metadata": {},
   "source": [
    "### Methode B: fitten aan exponentiële functie plus constante achtergrond\n",
    "\n",
    "We kunnen met `lmfit` eenvoudig modellen optellen:"
   ]
  },
  {
   "cell_type": "code",
   "execution_count": 32,
   "metadata": {},
   "outputs": [],
   "source": [
    "model = models.ExponentialModel() + models.ConstantModel()"
   ]
  },
  {
   "cell_type": "markdown",
   "metadata": {},
   "source": [
    "Vervolgens fitten we dit model aan de data en bekijken het resultaat:"
   ]
  },
  {
   "cell_type": "code",
   "execution_count": 33,
   "metadata": {},
   "outputs": [
    {
     "name": "stdout",
     "output_type": "stream",
     "text": [
      "[[Model]]\n",
      "    (Model(exponential) + Model(constant))\n",
      "[[Fit Statistics]]\n",
      "    # fitting method   = leastsq\n",
      "    # function evals   = 76\n",
      "    # data points      = 9\n",
      "    # variables        = 3\n",
      "    chi-square         = 7.00035413\n",
      "    reduced chi-square = 1.16672569\n",
      "    Akaike info crit   = 3.73862544\n",
      "    Bayesian info crit = 4.33029918\n",
      "[[Variables]]\n",
      "    amplitude:  1244.05587 +/- 33.0431890 (2.66%) (init = 1)\n",
      "    decay:      1.73323436 +/- 0.06537102 (3.77%) (init = 1)\n",
      "    c:          11.1130703 +/- 5.38179988 (48.43%) (init = 0)\n",
      "[[Correlations]] (unreported correlations are < 0.100)\n",
      "    C(decay, c)         = -0.767\n",
      "    C(amplitude, decay) = -0.513\n",
      "    C(amplitude, c)     =  0.159\n"
     ]
    },
    {
     "data": {
      "text/plain": [
       "(<Figure size 432x432 with 2 Axes>, GridSpec(2, 1, height_ratios=[1, 4]))"
      ]
     },
     "execution_count": 33,
     "metadata": {},
     "output_type": "execute_result"
    },
    {
     "data": {
      "image/png": "[encoded data removed]",
      "text/plain": [
       "<Figure size 432x432 with 2 Axes>"
      ]
     },
     "metadata": {
      "needs_background": "light"
     },
     "output_type": "display_data"
    }
   ],
   "source": [
    "fit = model.fit(data.counts, x=data.tijd, weights=1 / data.yerr)\n",
    "print(fit.fit_report())\n",
    "fit.plot(numpoints=50)"
   ]
  },
  {
   "cell_type": "markdown",
   "metadata": {},
   "source": [
    "Dat is een mooi resultaat. Op het oog gaat de fit goed door de punten en $\\chi^2_\\mathrm{red} = 1.167$. Dit resultaat is waarschijnlijker dan het resultaat van methode A, waar we de achtergrond negeren.\n",
    "\n",
    "### Methode C: Achtergrond van de data aftrekken\n",
    "\n",
    "Uit de opgave weten we dat er wel degelijk een achtergrond is, en dat die bepaald is op gemiddeld 12 counts per minuut. We kunnen een nieuwe kolom maken:"
   ]
  },
  {
   "cell_type": "code",
   "execution_count": 34,
   "metadata": {},
   "outputs": [],
   "source": [
    "data['nobkg'] = data.counts - 12"
   ]
  },
  {
   "cell_type": "markdown",
   "metadata": {},
   "source": [
    "De vraag is nu: wat doen we met de fout op deze data? Gebruiken we dezelfde fout als eerst? Maar dat was de wortel van het aantal counts mét achtergrond. De wortel van het aantal counts zónder achtergrond, dus `sqrt(data.nobkg)`, ligt voor de hand maar is niet juist. Niet elke meting had immers precies 12 counts aan achtergrond. We trekken 12 counts af, maar de verwachte onzekerheid op het *meten* van de achtergrond is $\\sqrt{12}$. Dat telt mee.\n",
    "\n",
    "We moeten de regels voor de foutenberekening aanroepen: $N_\\mathrm{nobkg} = N - N_\\mathrm{bkg}$. Dus de onzekerheid wordt gegeven door $\\delta N_\\mathrm{nobkg} = \\sqrt{(\\delta N)^2 + (\\delta N_\\mathrm{bkg})^2}$. De onzekerheid wordt, na aftrekken van de achtergrond, dus eigenlijk zelfs *groter*. Nu was de achtergrond gelukkig heel nauwkeurig bepaald, dus de onzekerheid op de grootte van de achtergrond is verwaarloosbaar klein. Dat betekent dat $\\delta N_\\mathrm{nobkg} = \\delta N = \\sqrt{N}$. We houden dus de oorspronkelijke onzekerheid."
   ]
  },
  {
   "cell_type": "code",
   "execution_count": 35,
   "metadata": {},
   "outputs": [
    {
     "name": "stdout",
     "output_type": "stream",
     "text": [
      "[[Model]]\n",
      "    Model(exponential)\n",
      "[[Fit Statistics]]\n",
      "    # fitting method   = leastsq\n",
      "    # function evals   = 44\n",
      "    # data points      = 9\n",
      "    # variables        = 2\n",
      "    chi-square         = 7.03239607\n",
      "    reduced chi-square = 1.00462801\n",
      "    Akaike info crit   = 1.77972615\n",
      "    Bayesian info crit = 2.17417530\n",
      "[[Variables]]\n",
      "    amplitude:  1244.90162 +/- 30.3226131 (2.44%) (init = 1)\n",
      "    decay:      1.72502723 +/- 0.03890322 (2.26%) (init = 1)\n",
      "[[Correlations]] (unreported correlations are < 0.100)\n",
      "    C(amplitude, decay) = -0.615\n"
     ]
    },
    {
     "data": {
      "text/plain": [
       "(<Figure size 432x432 with 2 Axes>, GridSpec(2, 1, height_ratios=[1, 4]))"
      ]
     },
     "execution_count": 35,
     "metadata": {},
     "output_type": "execute_result"
    },
    {
     "data": {
      "image/png": "[encoded data removed]",
      "text/plain": [
       "<Figure size 432x432 with 2 Axes>"
      ]
     },
     "metadata": {
      "needs_background": "light"
     },
     "output_type": "display_data"
    }
   ],
   "source": [
    "model = models.ExponentialModel()\n",
    "fit = model.fit(data.nobkg, x=data.tijd, weights=1 / data.yerr)\n",
    "print(fit.fit_report())\n",
    "fit.plot(numpoints=50)"
   ]
  },
  {
   "cell_type": "markdown",
   "metadata": {},
   "source": [
    "De $\\chi_\\mathrm{red}^2 = 1.005$. Dit is dus de meest nauwkeurige methode om de halfwaardetijd te bepalen. De halfwaardetijd wordt gegeven door $t_{1/2} = \\lambda\\ln 2$."
   ]
  },
  {
   "cell_type": "code",
   "execution_count": 36,
   "metadata": {},
   "outputs": [
    {
     "data": {
      "text/plain": [
       "1.1956977620505684"
      ]
     },
     "execution_count": 36,
     "metadata": {},
     "output_type": "execute_result"
    }
   ],
   "source": [
    "fit.params['decay'].value * np.log(2)"
   ]
  },
  {
   "cell_type": "markdown",
   "metadata": {},
   "source": [
    "Dus $t_{1/2} = 1.196$ s. Het kan makkelijker zijn om een eigen model te maken, waar $t_{1/2}$ expliciet in voorkomt: $N(t) = N_0 \\cdot \\frac{1}{2}^{t/t_{1/2}}$."
   ]
  },
  {
   "cell_type": "code",
   "execution_count": 37,
   "metadata": {},
   "outputs": [],
   "source": [
    "verval = models.Model(lambda t, N0, thalf: N0 * .5 ** (t / thalf))"
   ]
  },
  {
   "cell_type": "markdown",
   "metadata": {},
   "source": [
    "Meestal moeten we een schatting opgeven van de parameters. Zonder die schatting is het goed mogelijk dat het fit-algoritme zoekt bij zulke onrealistische waardes dat er 'oneindig' uit de functie komt. Daarn kan het algoritme niet goed mee omgaan. We kiezen gewoon de waarde 1 voor beide parameters:"
   ]
  },
  {
   "cell_type": "code",
   "execution_count": 38,
   "metadata": {},
   "outputs": [],
   "source": [
    "guess = verval.make_params(N0=1, thalf=1)"
   ]
  },
  {
   "cell_type": "code",
   "execution_count": 39,
   "metadata": {},
   "outputs": [
    {
     "name": "stdout",
     "output_type": "stream",
     "text": [
      "[[Model]]\n",
      "    Model(<lambda>)\n",
      "[[Fit Statistics]]\n",
      "    # fitting method   = leastsq\n",
      "    # function evals   = 41\n",
      "    # data points      = 9\n",
      "    # variables        = 2\n",
      "    chi-square         = 7.03239607\n",
      "    reduced chi-square = 1.00462801\n",
      "    Akaike info crit   = 1.77972615\n",
      "    Bayesian info crit = 2.17417530\n",
      "[[Variables]]\n",
      "    N0:     1244.90165 +/- 30.3225581 (2.44%) (init = 1)\n",
      "    thalf:  1.19569771 +/- 0.02696573 (2.26%) (init = 1)\n",
      "[[Correlations]] (unreported correlations are < 0.100)\n",
      "    C(N0, thalf) = -0.615\n"
     ]
    },
    {
     "data": {
      "text/plain": [
       "(<Figure size 432x432 with 2 Axes>, GridSpec(2, 1, height_ratios=[1, 4]))"
      ]
     },
     "execution_count": 39,
     "metadata": {},
     "output_type": "execute_result"
    },
    {
     "data": {
      "image/png": "[encoded data removed]",
      "text/plain": [
       "<Figure size 432x432 with 2 Axes>"
      ]
     },
     "metadata": {
      "needs_background": "light"
     },
     "output_type": "display_data"
    }
   ],
   "source": [
    "fit = verval.fit(data.nobkg, t=data.tijd, weights=1 / data.yerr, params=guess)\n",
    "print(fit.fit_report())\n",
    "fit.plot(numpoints=50)"
   ]
  },
  {
   "cell_type": "markdown",
   "metadata": {},
   "source": [
    "En we lezen nu meteen af dat $t_{1/2} = 1.196 \\pm 0.027$ s, ofwel $t_{1/2} = 1.196(27)$ s."
   ]
  },
  {
   "cell_type": "markdown",
   "metadata": {},
   "source": [
    "## Opgave 1.7"
   ]
  },
  {
   "cell_type": "markdown",
   "metadata": {},
   "source": [
    "We lezen de data in en zetten de fout op $t$ gelijk aan 0.01."
   ]
  },
  {
   "cell_type": "code",
   "execution_count": 40,
   "metadata": {},
   "outputs": [
    {
     "data": {
      "text/html": [
       "<div>\n",
       "<style scoped>\n",
       "    .dataframe tbody tr th:only-of-type {\n",
       "        vertical-align: middle;\n",
       "    }\n",
       "\n",
       "    .dataframe tbody tr th {\n",
       "        vertical-align: top;\n",
       "    }\n",
       "\n",
       "    .dataframe thead th {\n",
       "        text-align: right;\n",
       "    }\n",
       "</style>\n",
       "<table border=\"1\" class=\"dataframe\">\n",
       "  <thead>\n",
       "    <tr style=\"text-align: right;\">\n",
       "      <th></th>\n",
       "      <th>d</th>\n",
       "      <th>t</th>\n",
       "      <th>terr</th>\n",
       "    </tr>\n",
       "  </thead>\n",
       "  <tbody>\n",
       "    <tr>\n",
       "      <th>0</th>\n",
       "      <td>0.2</td>\n",
       "      <td>0.26</td>\n",
       "      <td>0.01</td>\n",
       "    </tr>\n",
       "    <tr>\n",
       "      <th>1</th>\n",
       "      <td>1.0</td>\n",
       "      <td>0.50</td>\n",
       "      <td>0.01</td>\n",
       "    </tr>\n",
       "    <tr>\n",
       "      <th>2</th>\n",
       "      <td>2.0</td>\n",
       "      <td>0.68</td>\n",
       "      <td>0.01</td>\n",
       "    </tr>\n",
       "    <tr>\n",
       "      <th>3</th>\n",
       "      <td>3.0</td>\n",
       "      <td>0.82</td>\n",
       "      <td>0.01</td>\n",
       "    </tr>\n",
       "    <tr>\n",
       "      <th>4</th>\n",
       "      <td>5.0</td>\n",
       "      <td>1.07</td>\n",
       "      <td>0.01</td>\n",
       "    </tr>\n",
       "  </tbody>\n",
       "</table>\n",
       "</div>"
      ],
      "text/plain": [
       "     d     t  terr\n",
       "0  0.2  0.26  0.01\n",
       "1  1.0  0.50  0.01\n",
       "2  2.0  0.68  0.01\n",
       "3  3.0  0.82  0.01\n",
       "4  5.0  1.07  0.01"
      ]
     },
     "execution_count": 40,
     "metadata": {},
     "output_type": "execute_result"
    }
   ],
   "source": [
    "data = pd.read_csv('valproef.txt')\n",
    "data['terr'] = 0.01\n",
    "data.head()"
   ]
  },
  {
   "cell_type": "markdown",
   "metadata": {},
   "source": [
    "Normaliter zouden we eenvoudigweg de data fitten aan het bekende model $d = \\frac{1}{2}gt^2$. Volgens de opgave moeten we echter een systematische fout op $t$ meenemen, omdat de magneet de kogel eventjes vasthoudt. Ons model wordt dan $d = \\frac{1}{2}g(t - t_0)^2$."
   ]
  },
  {
   "cell_type": "code",
   "execution_count": 41,
   "metadata": {},
   "outputs": [],
   "source": [
    "vallen = models.Model(lambda t, g, t0: .5 * g * (t - t0) ** 2)\n",
    "guess = vallen.make_params(g=1, t0=0)"
   ]
  },
  {
   "cell_type": "code",
   "execution_count": 42,
   "metadata": {},
   "outputs": [
    {
     "name": "stdout",
     "output_type": "stream",
     "text": [
      "[[Model]]\n",
      "    Model(<lambda>)\n",
      "[[Fit Statistics]]\n",
      "    # fitting method   = leastsq\n",
      "    # function evals   = 19\n",
      "    # data points      = 6\n",
      "    # variables        = 2\n",
      "    chi-square         = 0.01891279\n",
      "    reduced chi-square = 0.00472820\n",
      "    Akaike info crit   = -30.5580587\n",
      "    Bayesian info crit = -30.9745397\n",
      "[[Variables]]\n",
      "    g:   9.63815653 +/- 0.19162521 (1.99%) (init = 1)\n",
      "    t0:  0.04122806 +/- 0.01159351 (28.12%) (init = 0)\n",
      "[[Correlations]] (unreported correlations are < 0.100)\n",
      "    C(g, t0) =  0.956\n"
     ]
    }
   ],
   "source": [
    "fit = vallen.fit(data.d, t=data.t, params=guess)\n",
    "print(fit.fit_report())"
   ]
  },
  {
   "cell_type": "markdown",
   "metadata": {},
   "source": [
    "Uit deze waarnemingen volgt $g = 9.64(19)$ m/s$^2$, en $t_0 = 0.041(11)$ s. De kogel wordt dus waarschijnlijk even vastgehouden, en de literatuurwaarde $g = 9.81$ m/s$^2$ valt nét binnen de grenzen van onze meting.\n",
    "\n",
    "We hebben echter niet de fout op $t$ mee kunnen nemen. Alléén een fout op de $y$-as kunnen we meenemen in de fit. De gevonden waarde voor $\\chi_\\mathrm{red}^2$ zegt dus niet zoveel. Het heeft dus wellicht zin om de assen om te draaien. Daarbij moeten we wel ons model inverteren. Niet langer fitten we aan $d = \\frac{1}{2}g(t - t_0)^2$, maar nu aan $t = \\sqrt{\\frac{2d}{g}} + t_0$."
   ]
  },
  {
   "cell_type": "code",
   "execution_count": 43,
   "metadata": {},
   "outputs": [],
   "source": [
    "inv_vallen = models.Model(lambda d, g, t0: np.sqrt(2 * d / g) + t0)\n",
    "\n",
    "guess = inv_vallen.make_params(g=1, t0=0)\n",
    "fit = inv_vallen.fit(data.t, d=data.d, weights = 1 / data.terr, params=guess)"
   ]
  },
  {
   "cell_type": "code",
   "execution_count": 44,
   "metadata": {},
   "outputs": [
    {
     "name": "stdout",
     "output_type": "stream",
     "text": [
      "[[Model]]\n",
      "    Model(<lambda>)\n",
      "[[Fit Statistics]]\n",
      "    # fitting method   = leastsq\n",
      "    # function evals   = 22\n",
      "    # data points      = 6\n",
      "    # variables        = 2\n",
      "    chi-square         = 3.97119076\n",
      "    reduced chi-square = 0.99279769\n",
      "    Akaike info crit   = 1.52383911\n",
      "    Bayesian info crit = 1.10735805\n",
      "[[Variables]]\n",
      "    g:   9.79414655 +/- 0.20224827 (2.06%) (init = 1)\n",
      "    t0:  0.04913426 +/- 0.00877027 (17.85%) (init = 0)\n",
      "[[Correlations]] (unreported correlations are < 0.100)\n",
      "    C(g, t0) =  0.886\n"
     ]
    },
    {
     "data": {
      "text/plain": [
       "(<Figure size 432x432 with 2 Axes>, GridSpec(2, 1, height_ratios=[1, 4]))"
      ]
     },
     "execution_count": 44,
     "metadata": {},
     "output_type": "execute_result"
    },
    {
     "data": {
      "image/png": "[encoded data removed]",
      "text/plain": [
       "<Figure size 432x432 with 2 Axes>"
      ]
     },
     "metadata": {
      "needs_background": "light"
     },
     "output_type": "display_data"
    }
   ],
   "source": [
    "print(fit.fit_report())\n",
    "fit.plot(numpoints=50)"
   ]
  },
  {
   "cell_type": "markdown",
   "metadata": {},
   "source": [
    "Dit geeft een kleinere fout op $t_0$, een vrijwel even grote fout op $g$, maar wel een waarde die (veel) beter past bij de literatuurwaarde: $g = 9.79(20)$ m/s$^2$. Verder is $\\chi_\\mathrm{red}^2 = 0.993$, mooi rond de 1. We kunnen ons afvragen of het meenemen van een systematische fout in $t$ echt nodig is. Wanneer we opnieuw fitten met dezelfde geschatte waardes `guess`, waar we $t_0 = 0$ hadden gekozen, en we zetten die waarde vast:"
   ]
  },
  {
   "cell_type": "code",
   "execution_count": 45,
   "metadata": {},
   "outputs": [],
   "source": [
    "guess['t0'].vary = False"
   ]
  },
  {
   "cell_type": "markdown",
   "metadata": {},
   "source": [
    "dan vinden we uit de fit:"
   ]
  },
  {
   "cell_type": "code",
   "execution_count": 46,
   "metadata": {},
   "outputs": [
    {
     "name": "stdout",
     "output_type": "stream",
     "text": [
      "[[Model]]\n",
      "    Model(<lambda>)\n",
      "[[Fit Statistics]]\n",
      "    # fitting method   = leastsq\n",
      "    # function evals   = 15\n",
      "    # data points      = 6\n",
      "    # variables        = 1\n",
      "    chi-square         = 35.1316633\n",
      "    reduced chi-square = 7.02633266\n",
      "    Akaike info crit   = 12.6040601\n",
      "    Bayesian info crit = 12.3958195\n",
      "[[Variables]]\n",
      "    g:   8.86253014 +/- 0.21480671 (2.42%) (init = 1)\n",
      "    t0:  0 (fixed)\n"
     ]
    }
   ],
   "source": [
    "fit = inv_vallen.fit(data.t, d=data.d, weights = 1 / data.terr, params=guess)\n",
    "print(fit.fit_report())"
   ]
  },
  {
   "cell_type": "markdown",
   "metadata": {},
   "source": [
    "een $\\chi_\\mathrm{red}^2 = 7.0$, en ook nog een $g = 8.86(21)$ m/s$^2$ die niet overeenkomt met de literatuurwaarde. De $\\chi_\\mathrm{red}^2$ geeft wel aan dat we deze fit niet kunnen vertrouwen. Er is dus vrijwel zeker een systematische fout in $t$ aanwezig, en we nemen als resultaat van onze meting de eerder gevonden waarde $g = 9.79(20)$ m/s$^2$."
   ]
  }
 ],
 "metadata": {
  "kernelspec": {
   "display_name": "Python 3",
   "language": "python",
   "name": "python3"
  },
  "language_info": {
   "codemirror_mode": {
    "name": "ipython",
    "version": 3
   },
   "file_extension": ".py",
   "mimetype": "text/x-python",
   "name": "python",
   "nbconvert_exporter": "python",
   "pygments_lexer": "ipython3",
   "version": "3.8.5"
  },
  "toc": {
   "base_numbering": 1,
   "nav_menu": {},
   "number_sections": true,
   "sideBar": true,
   "skip_h1_title": false,
   "title_cell": "Table of Contents",
   "title_sidebar": "Contents",
   "toc_cell": false,
   "toc_position": {},
   "toc_section_display": true,
   "toc_window_display": false
  }
 },
 "nbformat": 4,
 "nbformat_minor": 4
}
